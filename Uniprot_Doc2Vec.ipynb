{
  "nbformat": 4,
  "nbformat_minor": 0,
  "metadata": {
    "colab": {
      "name": "Uniprot_Doc2Vec.ipynb",
      "provenance": [],
      "collapsed_sections": [],
      "machine_shape": "hm"
    },
    "kernelspec": {
      "display_name": "Python 3",
      "name": "python3"
    },
    "widgets": {
      "application/vnd.jupyter.widget-state+json": {
        "64dc26a471ae41d8b047db4579a9063b": {
          "model_module": "@jupyter-widgets/controls",
          "model_name": "HBoxModel",
          "state": {
            "_dom_classes": [],
            "_model_module": "@jupyter-widgets/controls",
            "_model_module_version": "1.5.0",
            "_model_name": "HBoxModel",
            "_view_count": null,
            "_view_module": "@jupyter-widgets/controls",
            "_view_module_version": "1.5.0",
            "_view_name": "HBoxView",
            "box_style": "",
            "children": [
              "IPY_MODEL_4e6fd99d4ff647abac32b2b8415e1c2f",
              "IPY_MODEL_0c09cd16c7464ad0b40a8f1967f52e2f"
            ],
            "layout": "IPY_MODEL_4f1c66891a1d41069179b421ee12fe88"
          }
        },
        "4e6fd99d4ff647abac32b2b8415e1c2f": {
          "model_module": "@jupyter-widgets/controls",
          "model_name": "FloatProgressModel",
          "state": {
            "_dom_classes": [],
            "_model_module": "@jupyter-widgets/controls",
            "_model_module_version": "1.5.0",
            "_model_name": "FloatProgressModel",
            "_view_count": null,
            "_view_module": "@jupyter-widgets/controls",
            "_view_module_version": "1.5.0",
            "_view_name": "ProgressView",
            "bar_style": "success",
            "description": "100%",
            "description_tooltip": null,
            "layout": "IPY_MODEL_24c5131d0d974834bc23f103531371e0",
            "max": 50572,
            "min": 0,
            "orientation": "horizontal",
            "style": "IPY_MODEL_dc03a7af69c4403998309872c55b87d5",
            "value": 50572
          }
        },
        "0c09cd16c7464ad0b40a8f1967f52e2f": {
          "model_module": "@jupyter-widgets/controls",
          "model_name": "HTMLModel",
          "state": {
            "_dom_classes": [],
            "_model_module": "@jupyter-widgets/controls",
            "_model_module_version": "1.5.0",
            "_model_name": "HTMLModel",
            "_view_count": null,
            "_view_module": "@jupyter-widgets/controls",
            "_view_module_version": "1.5.0",
            "_view_name": "HTMLView",
            "description": "",
            "description_tooltip": null,
            "layout": "IPY_MODEL_6c78cc8dae45433684e68f3e2c5f61e3",
            "placeholder": "​",
            "style": "IPY_MODEL_427d1c68240545819b922af2500348eb",
            "value": " 50572/50572 [00:02&lt;00:00, 22518.74it/s]"
          }
        },
        "4f1c66891a1d41069179b421ee12fe88": {
          "model_module": "@jupyter-widgets/base",
          "model_name": "LayoutModel",
          "state": {
            "_model_module": "@jupyter-widgets/base",
            "_model_module_version": "1.2.0",
            "_model_name": "LayoutModel",
            "_view_count": null,
            "_view_module": "@jupyter-widgets/base",
            "_view_module_version": "1.2.0",
            "_view_name": "LayoutView",
            "align_content": null,
            "align_items": null,
            "align_self": null,
            "border": null,
            "bottom": null,
            "display": null,
            "flex": null,
            "flex_flow": null,
            "grid_area": null,
            "grid_auto_columns": null,
            "grid_auto_flow": null,
            "grid_auto_rows": null,
            "grid_column": null,
            "grid_gap": null,
            "grid_row": null,
            "grid_template_areas": null,
            "grid_template_columns": null,
            "grid_template_rows": null,
            "height": null,
            "justify_content": null,
            "justify_items": null,
            "left": null,
            "margin": null,
            "max_height": null,
            "max_width": null,
            "min_height": null,
            "min_width": null,
            "object_fit": null,
            "object_position": null,
            "order": null,
            "overflow": null,
            "overflow_x": null,
            "overflow_y": null,
            "padding": null,
            "right": null,
            "top": null,
            "visibility": null,
            "width": null
          }
        },
        "24c5131d0d974834bc23f103531371e0": {
          "model_module": "@jupyter-widgets/base",
          "model_name": "LayoutModel",
          "state": {
            "_model_module": "@jupyter-widgets/base",
            "_model_module_version": "1.2.0",
            "_model_name": "LayoutModel",
            "_view_count": null,
            "_view_module": "@jupyter-widgets/base",
            "_view_module_version": "1.2.0",
            "_view_name": "LayoutView",
            "align_content": null,
            "align_items": null,
            "align_self": null,
            "border": null,
            "bottom": null,
            "display": null,
            "flex": null,
            "flex_flow": null,
            "grid_area": null,
            "grid_auto_columns": null,
            "grid_auto_flow": null,
            "grid_auto_rows": null,
            "grid_column": null,
            "grid_gap": null,
            "grid_row": null,
            "grid_template_areas": null,
            "grid_template_columns": null,
            "grid_template_rows": null,
            "height": null,
            "justify_content": null,
            "justify_items": null,
            "left": null,
            "margin": null,
            "max_height": null,
            "max_width": null,
            "min_height": null,
            "min_width": null,
            "object_fit": null,
            "object_position": null,
            "order": null,
            "overflow": null,
            "overflow_x": null,
            "overflow_y": null,
            "padding": null,
            "right": null,
            "top": null,
            "visibility": null,
            "width": null
          }
        },
        "dc03a7af69c4403998309872c55b87d5": {
          "model_module": "@jupyter-widgets/controls",
          "model_name": "ProgressStyleModel",
          "state": {
            "_model_module": "@jupyter-widgets/controls",
            "_model_module_version": "1.5.0",
            "_model_name": "ProgressStyleModel",
            "_view_count": null,
            "_view_module": "@jupyter-widgets/base",
            "_view_module_version": "1.2.0",
            "_view_name": "StyleView",
            "bar_color": null,
            "description_width": "initial"
          }
        },
        "6c78cc8dae45433684e68f3e2c5f61e3": {
          "model_module": "@jupyter-widgets/base",
          "model_name": "LayoutModel",
          "state": {
            "_model_module": "@jupyter-widgets/base",
            "_model_module_version": "1.2.0",
            "_model_name": "LayoutModel",
            "_view_count": null,
            "_view_module": "@jupyter-widgets/base",
            "_view_module_version": "1.2.0",
            "_view_name": "LayoutView",
            "align_content": null,
            "align_items": null,
            "align_self": null,
            "border": null,
            "bottom": null,
            "display": null,
            "flex": null,
            "flex_flow": null,
            "grid_area": null,
            "grid_auto_columns": null,
            "grid_auto_flow": null,
            "grid_auto_rows": null,
            "grid_column": null,
            "grid_gap": null,
            "grid_row": null,
            "grid_template_areas": null,
            "grid_template_columns": null,
            "grid_template_rows": null,
            "height": null,
            "justify_content": null,
            "justify_items": null,
            "left": null,
            "margin": null,
            "max_height": null,
            "max_width": null,
            "min_height": null,
            "min_width": null,
            "object_fit": null,
            "object_position": null,
            "order": null,
            "overflow": null,
            "overflow_x": null,
            "overflow_y": null,
            "padding": null,
            "right": null,
            "top": null,
            "visibility": null,
            "width": null
          }
        },
        "427d1c68240545819b922af2500348eb": {
          "model_module": "@jupyter-widgets/controls",
          "model_name": "DescriptionStyleModel",
          "state": {
            "_model_module": "@jupyter-widgets/controls",
            "_model_module_version": "1.5.0",
            "_model_name": "DescriptionStyleModel",
            "_view_count": null,
            "_view_module": "@jupyter-widgets/base",
            "_view_module_version": "1.2.0",
            "_view_name": "StyleView",
            "description_width": ""
          }
        },
        "3f1adda5a7c442218d3e2a355612ecd2": {
          "model_module": "@jupyter-widgets/controls",
          "model_name": "HBoxModel",
          "state": {
            "_dom_classes": [],
            "_model_module": "@jupyter-widgets/controls",
            "_model_module_version": "1.5.0",
            "_model_name": "HBoxModel",
            "_view_count": null,
            "_view_module": "@jupyter-widgets/controls",
            "_view_module_version": "1.5.0",
            "_view_name": "HBoxView",
            "box_style": "",
            "children": [
              "IPY_MODEL_aca68c4a76ce4de3878a7ed57d29161c",
              "IPY_MODEL_35c9d04f8c1f4c2c934514b177f9972a"
            ],
            "layout": "IPY_MODEL_a2a63e85866f4589af15379122936c02"
          }
        },
        "aca68c4a76ce4de3878a7ed57d29161c": {
          "model_module": "@jupyter-widgets/controls",
          "model_name": "FloatProgressModel",
          "state": {
            "_dom_classes": [],
            "_model_module": "@jupyter-widgets/controls",
            "_model_module_version": "1.5.0",
            "_model_name": "FloatProgressModel",
            "_view_count": null,
            "_view_module": "@jupyter-widgets/controls",
            "_view_module_version": "1.5.0",
            "_view_name": "ProgressView",
            "bar_style": "success",
            "description": "100%",
            "description_tooltip": null,
            "layout": "IPY_MODEL_b825c5d9506546a7a5c9b76bc9d3e15a",
            "max": 10,
            "min": 0,
            "orientation": "horizontal",
            "style": "IPY_MODEL_e15c84bbffbd4e61a63c4f7b572a063b",
            "value": 10
          }
        },
        "35c9d04f8c1f4c2c934514b177f9972a": {
          "model_module": "@jupyter-widgets/controls",
          "model_name": "HTMLModel",
          "state": {
            "_dom_classes": [],
            "_model_module": "@jupyter-widgets/controls",
            "_model_module_version": "1.5.0",
            "_model_name": "HTMLModel",
            "_view_count": null,
            "_view_module": "@jupyter-widgets/controls",
            "_view_module_version": "1.5.0",
            "_view_name": "HTMLView",
            "description": "",
            "description_tooltip": null,
            "layout": "IPY_MODEL_1b73ba2c78ac4b379b385c99e086a97d",
            "placeholder": "​",
            "style": "IPY_MODEL_49a757315c594483ae459108bf980a67",
            "value": " 10/10 [07:53&lt;00:00, 47.37s/it]"
          }
        },
        "a2a63e85866f4589af15379122936c02": {
          "model_module": "@jupyter-widgets/base",
          "model_name": "LayoutModel",
          "state": {
            "_model_module": "@jupyter-widgets/base",
            "_model_module_version": "1.2.0",
            "_model_name": "LayoutModel",
            "_view_count": null,
            "_view_module": "@jupyter-widgets/base",
            "_view_module_version": "1.2.0",
            "_view_name": "LayoutView",
            "align_content": null,
            "align_items": null,
            "align_self": null,
            "border": null,
            "bottom": null,
            "display": null,
            "flex": null,
            "flex_flow": null,
            "grid_area": null,
            "grid_auto_columns": null,
            "grid_auto_flow": null,
            "grid_auto_rows": null,
            "grid_column": null,
            "grid_gap": null,
            "grid_row": null,
            "grid_template_areas": null,
            "grid_template_columns": null,
            "grid_template_rows": null,
            "height": null,
            "justify_content": null,
            "justify_items": null,
            "left": null,
            "margin": null,
            "max_height": null,
            "max_width": null,
            "min_height": null,
            "min_width": null,
            "object_fit": null,
            "object_position": null,
            "order": null,
            "overflow": null,
            "overflow_x": null,
            "overflow_y": null,
            "padding": null,
            "right": null,
            "top": null,
            "visibility": null,
            "width": null
          }
        },
        "b825c5d9506546a7a5c9b76bc9d3e15a": {
          "model_module": "@jupyter-widgets/base",
          "model_name": "LayoutModel",
          "state": {
            "_model_module": "@jupyter-widgets/base",
            "_model_module_version": "1.2.0",
            "_model_name": "LayoutModel",
            "_view_count": null,
            "_view_module": "@jupyter-widgets/base",
            "_view_module_version": "1.2.0",
            "_view_name": "LayoutView",
            "align_content": null,
            "align_items": null,
            "align_self": null,
            "border": null,
            "bottom": null,
            "display": null,
            "flex": null,
            "flex_flow": null,
            "grid_area": null,
            "grid_auto_columns": null,
            "grid_auto_flow": null,
            "grid_auto_rows": null,
            "grid_column": null,
            "grid_gap": null,
            "grid_row": null,
            "grid_template_areas": null,
            "grid_template_columns": null,
            "grid_template_rows": null,
            "height": null,
            "justify_content": null,
            "justify_items": null,
            "left": null,
            "margin": null,
            "max_height": null,
            "max_width": null,
            "min_height": null,
            "min_width": null,
            "object_fit": null,
            "object_position": null,
            "order": null,
            "overflow": null,
            "overflow_x": null,
            "overflow_y": null,
            "padding": null,
            "right": null,
            "top": null,
            "visibility": null,
            "width": null
          }
        },
        "e15c84bbffbd4e61a63c4f7b572a063b": {
          "model_module": "@jupyter-widgets/controls",
          "model_name": "ProgressStyleModel",
          "state": {
            "_model_module": "@jupyter-widgets/controls",
            "_model_module_version": "1.5.0",
            "_model_name": "ProgressStyleModel",
            "_view_count": null,
            "_view_module": "@jupyter-widgets/base",
            "_view_module_version": "1.2.0",
            "_view_name": "StyleView",
            "bar_color": null,
            "description_width": "initial"
          }
        },
        "1b73ba2c78ac4b379b385c99e086a97d": {
          "model_module": "@jupyter-widgets/base",
          "model_name": "LayoutModel",
          "state": {
            "_model_module": "@jupyter-widgets/base",
            "_model_module_version": "1.2.0",
            "_model_name": "LayoutModel",
            "_view_count": null,
            "_view_module": "@jupyter-widgets/base",
            "_view_module_version": "1.2.0",
            "_view_name": "LayoutView",
            "align_content": null,
            "align_items": null,
            "align_self": null,
            "border": null,
            "bottom": null,
            "display": null,
            "flex": null,
            "flex_flow": null,
            "grid_area": null,
            "grid_auto_columns": null,
            "grid_auto_flow": null,
            "grid_auto_rows": null,
            "grid_column": null,
            "grid_gap": null,
            "grid_row": null,
            "grid_template_areas": null,
            "grid_template_columns": null,
            "grid_template_rows": null,
            "height": null,
            "justify_content": null,
            "justify_items": null,
            "left": null,
            "margin": null,
            "max_height": null,
            "max_width": null,
            "min_height": null,
            "min_width": null,
            "object_fit": null,
            "object_position": null,
            "order": null,
            "overflow": null,
            "overflow_x": null,
            "overflow_y": null,
            "padding": null,
            "right": null,
            "top": null,
            "visibility": null,
            "width": null
          }
        },
        "49a757315c594483ae459108bf980a67": {
          "model_module": "@jupyter-widgets/controls",
          "model_name": "DescriptionStyleModel",
          "state": {
            "_model_module": "@jupyter-widgets/controls",
            "_model_module_version": "1.5.0",
            "_model_name": "DescriptionStyleModel",
            "_view_count": null,
            "_view_module": "@jupyter-widgets/base",
            "_view_module_version": "1.2.0",
            "_view_name": "StyleView",
            "description_width": ""
          }
        },
        "e59f869436b34cd4be9bc62bb649fd4a": {
          "model_module": "@jupyter-widgets/controls",
          "model_name": "HBoxModel",
          "state": {
            "_dom_classes": [],
            "_model_module": "@jupyter-widgets/controls",
            "_model_module_version": "1.5.0",
            "_model_name": "HBoxModel",
            "_view_count": null,
            "_view_module": "@jupyter-widgets/controls",
            "_view_module_version": "1.5.0",
            "_view_name": "HBoxView",
            "box_style": "",
            "children": [
              "IPY_MODEL_cae69f2fd16e48dd9e714f0a9e457f0e",
              "IPY_MODEL_92fb844e57ce4f1d855d03618aaff3ab"
            ],
            "layout": "IPY_MODEL_c760c76af675407db5358a94bbf6817b"
          }
        },
        "cae69f2fd16e48dd9e714f0a9e457f0e": {
          "model_module": "@jupyter-widgets/controls",
          "model_name": "FloatProgressModel",
          "state": {
            "_dom_classes": [],
            "_model_module": "@jupyter-widgets/controls",
            "_model_module_version": "1.5.0",
            "_model_name": "FloatProgressModel",
            "_view_count": null,
            "_view_module": "@jupyter-widgets/controls",
            "_view_module_version": "1.5.0",
            "_view_name": "ProgressView",
            "bar_style": "success",
            "description": "100%",
            "description_tooltip": null,
            "layout": "IPY_MODEL_2401e0f9da9a4d5cb96e059dd47b103f",
            "max": 10,
            "min": 0,
            "orientation": "horizontal",
            "style": "IPY_MODEL_33cb154e92c04797b5dd638fe8b04cc9",
            "value": 10
          }
        },
        "92fb844e57ce4f1d855d03618aaff3ab": {
          "model_module": "@jupyter-widgets/controls",
          "model_name": "HTMLModel",
          "state": {
            "_dom_classes": [],
            "_model_module": "@jupyter-widgets/controls",
            "_model_module_version": "1.5.0",
            "_model_name": "HTMLModel",
            "_view_count": null,
            "_view_module": "@jupyter-widgets/controls",
            "_view_module_version": "1.5.0",
            "_view_name": "HTMLView",
            "description": "",
            "description_tooltip": null,
            "layout": "IPY_MODEL_ae31be39acfc437d92ef45d4a206bc87",
            "placeholder": "​",
            "style": "IPY_MODEL_cc4fe4d1999746b99972ace260f64c73",
            "value": " 10/10 [01:44&lt;00:00, 10.40s/it]"
          }
        },
        "c760c76af675407db5358a94bbf6817b": {
          "model_module": "@jupyter-widgets/base",
          "model_name": "LayoutModel",
          "state": {
            "_model_module": "@jupyter-widgets/base",
            "_model_module_version": "1.2.0",
            "_model_name": "LayoutModel",
            "_view_count": null,
            "_view_module": "@jupyter-widgets/base",
            "_view_module_version": "1.2.0",
            "_view_name": "LayoutView",
            "align_content": null,
            "align_items": null,
            "align_self": null,
            "border": null,
            "bottom": null,
            "display": null,
            "flex": null,
            "flex_flow": null,
            "grid_area": null,
            "grid_auto_columns": null,
            "grid_auto_flow": null,
            "grid_auto_rows": null,
            "grid_column": null,
            "grid_gap": null,
            "grid_row": null,
            "grid_template_areas": null,
            "grid_template_columns": null,
            "grid_template_rows": null,
            "height": null,
            "justify_content": null,
            "justify_items": null,
            "left": null,
            "margin": null,
            "max_height": null,
            "max_width": null,
            "min_height": null,
            "min_width": null,
            "object_fit": null,
            "object_position": null,
            "order": null,
            "overflow": null,
            "overflow_x": null,
            "overflow_y": null,
            "padding": null,
            "right": null,
            "top": null,
            "visibility": null,
            "width": null
          }
        },
        "2401e0f9da9a4d5cb96e059dd47b103f": {
          "model_module": "@jupyter-widgets/base",
          "model_name": "LayoutModel",
          "state": {
            "_model_module": "@jupyter-widgets/base",
            "_model_module_version": "1.2.0",
            "_model_name": "LayoutModel",
            "_view_count": null,
            "_view_module": "@jupyter-widgets/base",
            "_view_module_version": "1.2.0",
            "_view_name": "LayoutView",
            "align_content": null,
            "align_items": null,
            "align_self": null,
            "border": null,
            "bottom": null,
            "display": null,
            "flex": null,
            "flex_flow": null,
            "grid_area": null,
            "grid_auto_columns": null,
            "grid_auto_flow": null,
            "grid_auto_rows": null,
            "grid_column": null,
            "grid_gap": null,
            "grid_row": null,
            "grid_template_areas": null,
            "grid_template_columns": null,
            "grid_template_rows": null,
            "height": null,
            "justify_content": null,
            "justify_items": null,
            "left": null,
            "margin": null,
            "max_height": null,
            "max_width": null,
            "min_height": null,
            "min_width": null,
            "object_fit": null,
            "object_position": null,
            "order": null,
            "overflow": null,
            "overflow_x": null,
            "overflow_y": null,
            "padding": null,
            "right": null,
            "top": null,
            "visibility": null,
            "width": null
          }
        },
        "33cb154e92c04797b5dd638fe8b04cc9": {
          "model_module": "@jupyter-widgets/controls",
          "model_name": "ProgressStyleModel",
          "state": {
            "_model_module": "@jupyter-widgets/controls",
            "_model_module_version": "1.5.0",
            "_model_name": "ProgressStyleModel",
            "_view_count": null,
            "_view_module": "@jupyter-widgets/base",
            "_view_module_version": "1.2.0",
            "_view_name": "StyleView",
            "bar_color": null,
            "description_width": "initial"
          }
        },
        "ae31be39acfc437d92ef45d4a206bc87": {
          "model_module": "@jupyter-widgets/base",
          "model_name": "LayoutModel",
          "state": {
            "_model_module": "@jupyter-widgets/base",
            "_model_module_version": "1.2.0",
            "_model_name": "LayoutModel",
            "_view_count": null,
            "_view_module": "@jupyter-widgets/base",
            "_view_module_version": "1.2.0",
            "_view_name": "LayoutView",
            "align_content": null,
            "align_items": null,
            "align_self": null,
            "border": null,
            "bottom": null,
            "display": null,
            "flex": null,
            "flex_flow": null,
            "grid_area": null,
            "grid_auto_columns": null,
            "grid_auto_flow": null,
            "grid_auto_rows": null,
            "grid_column": null,
            "grid_gap": null,
            "grid_row": null,
            "grid_template_areas": null,
            "grid_template_columns": null,
            "grid_template_rows": null,
            "height": null,
            "justify_content": null,
            "justify_items": null,
            "left": null,
            "margin": null,
            "max_height": null,
            "max_width": null,
            "min_height": null,
            "min_width": null,
            "object_fit": null,
            "object_position": null,
            "order": null,
            "overflow": null,
            "overflow_x": null,
            "overflow_y": null,
            "padding": null,
            "right": null,
            "top": null,
            "visibility": null,
            "width": null
          }
        },
        "cc4fe4d1999746b99972ace260f64c73": {
          "model_module": "@jupyter-widgets/controls",
          "model_name": "DescriptionStyleModel",
          "state": {
            "_model_module": "@jupyter-widgets/controls",
            "_model_module_version": "1.5.0",
            "_model_name": "DescriptionStyleModel",
            "_view_count": null,
            "_view_module": "@jupyter-widgets/base",
            "_view_module_version": "1.2.0",
            "_view_name": "StyleView",
            "description_width": ""
          }
        },
        "37887de5c80545f894fd430ce59ce51a": {
          "model_module": "@jupyter-widgets/controls",
          "model_name": "HBoxModel",
          "state": {
            "_view_name": "HBoxView",
            "_dom_classes": [],
            "_model_name": "HBoxModel",
            "_view_module": "@jupyter-widgets/controls",
            "_model_module_version": "1.5.0",
            "_view_count": null,
            "_view_module_version": "1.5.0",
            "box_style": "",
            "layout": "IPY_MODEL_905bacd30fdc4239975283834cc7c58f",
            "_model_module": "@jupyter-widgets/controls",
            "children": [
              "IPY_MODEL_e84783436d2a43b1a17f057c1cafa62f",
              "IPY_MODEL_cfcb157a75604925b3c76eaff77a04e9"
            ]
          }
        },
        "905bacd30fdc4239975283834cc7c58f": {
          "model_module": "@jupyter-widgets/base",
          "model_name": "LayoutModel",
          "state": {
            "_view_name": "LayoutView",
            "grid_template_rows": null,
            "right": null,
            "justify_content": null,
            "_view_module": "@jupyter-widgets/base",
            "overflow": null,
            "_model_module_version": "1.2.0",
            "_view_count": null,
            "flex_flow": null,
            "width": null,
            "min_width": null,
            "border": null,
            "align_items": null,
            "bottom": null,
            "_model_module": "@jupyter-widgets/base",
            "top": null,
            "grid_column": null,
            "overflow_y": null,
            "overflow_x": null,
            "grid_auto_flow": null,
            "grid_area": null,
            "grid_template_columns": null,
            "flex": null,
            "_model_name": "LayoutModel",
            "justify_items": null,
            "grid_row": null,
            "max_height": null,
            "align_content": null,
            "visibility": null,
            "align_self": null,
            "height": null,
            "min_height": null,
            "padding": null,
            "grid_auto_rows": null,
            "grid_gap": null,
            "max_width": null,
            "order": null,
            "_view_module_version": "1.2.0",
            "grid_template_areas": null,
            "object_position": null,
            "object_fit": null,
            "grid_auto_columns": null,
            "margin": null,
            "display": null,
            "left": null
          }
        },
        "e84783436d2a43b1a17f057c1cafa62f": {
          "model_module": "@jupyter-widgets/controls",
          "model_name": "FloatProgressModel",
          "state": {
            "_view_name": "ProgressView",
            "style": "IPY_MODEL_006d56b10d13446099a4b4bfe183d130",
            "_dom_classes": [],
            "description": "100%",
            "_model_name": "FloatProgressModel",
            "bar_style": "success",
            "max": 16,
            "_view_module": "@jupyter-widgets/controls",
            "_model_module_version": "1.5.0",
            "value": 16,
            "_view_count": null,
            "_view_module_version": "1.5.0",
            "orientation": "horizontal",
            "min": 0,
            "description_tooltip": null,
            "_model_module": "@jupyter-widgets/controls",
            "layout": "IPY_MODEL_52a7ae4271d84cd883a04b511870776f"
          }
        },
        "cfcb157a75604925b3c76eaff77a04e9": {
          "model_module": "@jupyter-widgets/controls",
          "model_name": "HTMLModel",
          "state": {
            "_view_name": "HTMLView",
            "style": "IPY_MODEL_57e4564d71ec4e99bac2a2e9224aa4a0",
            "_dom_classes": [],
            "description": "",
            "_model_name": "HTMLModel",
            "placeholder": "​",
            "_view_module": "@jupyter-widgets/controls",
            "_model_module_version": "1.5.0",
            "value": " 16/16 [53:07&lt;00:00, 199.25s/it]",
            "_view_count": null,
            "_view_module_version": "1.5.0",
            "description_tooltip": null,
            "_model_module": "@jupyter-widgets/controls",
            "layout": "IPY_MODEL_10588ae2230d4fdd9e3ea26733d12dc1"
          }
        },
        "006d56b10d13446099a4b4bfe183d130": {
          "model_module": "@jupyter-widgets/controls",
          "model_name": "ProgressStyleModel",
          "state": {
            "_view_name": "StyleView",
            "_model_name": "ProgressStyleModel",
            "description_width": "initial",
            "_view_module": "@jupyter-widgets/base",
            "_model_module_version": "1.5.0",
            "_view_count": null,
            "_view_module_version": "1.2.0",
            "bar_color": null,
            "_model_module": "@jupyter-widgets/controls"
          }
        },
        "52a7ae4271d84cd883a04b511870776f": {
          "model_module": "@jupyter-widgets/base",
          "model_name": "LayoutModel",
          "state": {
            "_view_name": "LayoutView",
            "grid_template_rows": null,
            "right": null,
            "justify_content": null,
            "_view_module": "@jupyter-widgets/base",
            "overflow": null,
            "_model_module_version": "1.2.0",
            "_view_count": null,
            "flex_flow": null,
            "width": null,
            "min_width": null,
            "border": null,
            "align_items": null,
            "bottom": null,
            "_model_module": "@jupyter-widgets/base",
            "top": null,
            "grid_column": null,
            "overflow_y": null,
            "overflow_x": null,
            "grid_auto_flow": null,
            "grid_area": null,
            "grid_template_columns": null,
            "flex": null,
            "_model_name": "LayoutModel",
            "justify_items": null,
            "grid_row": null,
            "max_height": null,
            "align_content": null,
            "visibility": null,
            "align_self": null,
            "height": null,
            "min_height": null,
            "padding": null,
            "grid_auto_rows": null,
            "grid_gap": null,
            "max_width": null,
            "order": null,
            "_view_module_version": "1.2.0",
            "grid_template_areas": null,
            "object_position": null,
            "object_fit": null,
            "grid_auto_columns": null,
            "margin": null,
            "display": null,
            "left": null
          }
        },
        "57e4564d71ec4e99bac2a2e9224aa4a0": {
          "model_module": "@jupyter-widgets/controls",
          "model_name": "DescriptionStyleModel",
          "state": {
            "_view_name": "StyleView",
            "_model_name": "DescriptionStyleModel",
            "description_width": "",
            "_view_module": "@jupyter-widgets/base",
            "_model_module_version": "1.5.0",
            "_view_count": null,
            "_view_module_version": "1.2.0",
            "_model_module": "@jupyter-widgets/controls"
          }
        },
        "10588ae2230d4fdd9e3ea26733d12dc1": {
          "model_module": "@jupyter-widgets/base",
          "model_name": "LayoutModel",
          "state": {
            "_view_name": "LayoutView",
            "grid_template_rows": null,
            "right": null,
            "justify_content": null,
            "_view_module": "@jupyter-widgets/base",
            "overflow": null,
            "_model_module_version": "1.2.0",
            "_view_count": null,
            "flex_flow": null,
            "width": null,
            "min_width": null,
            "border": null,
            "align_items": null,
            "bottom": null,
            "_model_module": "@jupyter-widgets/base",
            "top": null,
            "grid_column": null,
            "overflow_y": null,
            "overflow_x": null,
            "grid_auto_flow": null,
            "grid_area": null,
            "grid_template_columns": null,
            "flex": null,
            "_model_name": "LayoutModel",
            "justify_items": null,
            "grid_row": null,
            "max_height": null,
            "align_content": null,
            "visibility": null,
            "align_self": null,
            "height": null,
            "min_height": null,
            "padding": null,
            "grid_auto_rows": null,
            "grid_gap": null,
            "max_width": null,
            "order": null,
            "_view_module_version": "1.2.0",
            "grid_template_areas": null,
            "object_position": null,
            "object_fit": null,
            "grid_auto_columns": null,
            "margin": null,
            "display": null,
            "left": null
          }
        },
        "49ef9dcdb73a4efea9027a916479b801": {
          "model_module": "@jupyter-widgets/controls",
          "model_name": "HBoxModel",
          "state": {
            "_view_name": "HBoxView",
            "_dom_classes": [],
            "_model_name": "HBoxModel",
            "_view_module": "@jupyter-widgets/controls",
            "_model_module_version": "1.5.0",
            "_view_count": null,
            "_view_module_version": "1.5.0",
            "box_style": "",
            "layout": "IPY_MODEL_8908c54c305a4233a1aa3bac8839eda9",
            "_model_module": "@jupyter-widgets/controls",
            "children": [
              "IPY_MODEL_06038afb2b344bed9709de1bfa7a4cd4",
              "IPY_MODEL_f1a51ecb13b44f77bdd8e6850e707730"
            ]
          }
        },
        "8908c54c305a4233a1aa3bac8839eda9": {
          "model_module": "@jupyter-widgets/base",
          "model_name": "LayoutModel",
          "state": {
            "_view_name": "LayoutView",
            "grid_template_rows": null,
            "right": null,
            "justify_content": null,
            "_view_module": "@jupyter-widgets/base",
            "overflow": null,
            "_model_module_version": "1.2.0",
            "_view_count": null,
            "flex_flow": null,
            "width": null,
            "min_width": null,
            "border": null,
            "align_items": null,
            "bottom": null,
            "_model_module": "@jupyter-widgets/base",
            "top": null,
            "grid_column": null,
            "overflow_y": null,
            "overflow_x": null,
            "grid_auto_flow": null,
            "grid_area": null,
            "grid_template_columns": null,
            "flex": null,
            "_model_name": "LayoutModel",
            "justify_items": null,
            "grid_row": null,
            "max_height": null,
            "align_content": null,
            "visibility": null,
            "align_self": null,
            "height": null,
            "min_height": null,
            "padding": null,
            "grid_auto_rows": null,
            "grid_gap": null,
            "max_width": null,
            "order": null,
            "_view_module_version": "1.2.0",
            "grid_template_areas": null,
            "object_position": null,
            "object_fit": null,
            "grid_auto_columns": null,
            "margin": null,
            "display": null,
            "left": null
          }
        },
        "06038afb2b344bed9709de1bfa7a4cd4": {
          "model_module": "@jupyter-widgets/controls",
          "model_name": "FloatProgressModel",
          "state": {
            "_view_name": "ProgressView",
            "style": "IPY_MODEL_34956f0ce47b47af896d65bd1a0e64cc",
            "_dom_classes": [],
            "description": "100%",
            "_model_name": "FloatProgressModel",
            "bar_style": "success",
            "max": 28872,
            "_view_module": "@jupyter-widgets/controls",
            "_model_module_version": "1.5.0",
            "value": 28872,
            "_view_count": null,
            "_view_module_version": "1.5.0",
            "orientation": "horizontal",
            "min": 0,
            "description_tooltip": null,
            "_model_module": "@jupyter-widgets/controls",
            "layout": "IPY_MODEL_551549175d84442c8b3d57f55e0f8a4d"
          }
        },
        "f1a51ecb13b44f77bdd8e6850e707730": {
          "model_module": "@jupyter-widgets/controls",
          "model_name": "HTMLModel",
          "state": {
            "_view_name": "HTMLView",
            "style": "IPY_MODEL_22aa137f5ce64ae682326c9ef0ef0868",
            "_dom_classes": [],
            "description": "",
            "_model_name": "HTMLModel",
            "placeholder": "​",
            "_view_module": "@jupyter-widgets/controls",
            "_model_module_version": "1.5.0",
            "value": " 28872/28872 [44:17&lt;00:00, 10.86it/s]",
            "_view_count": null,
            "_view_module_version": "1.5.0",
            "description_tooltip": null,
            "_model_module": "@jupyter-widgets/controls",
            "layout": "IPY_MODEL_5a51836213964bc9a854560965b53391"
          }
        },
        "34956f0ce47b47af896d65bd1a0e64cc": {
          "model_module": "@jupyter-widgets/controls",
          "model_name": "ProgressStyleModel",
          "state": {
            "_view_name": "StyleView",
            "_model_name": "ProgressStyleModel",
            "description_width": "initial",
            "_view_module": "@jupyter-widgets/base",
            "_model_module_version": "1.5.0",
            "_view_count": null,
            "_view_module_version": "1.2.0",
            "bar_color": null,
            "_model_module": "@jupyter-widgets/controls"
          }
        },
        "551549175d84442c8b3d57f55e0f8a4d": {
          "model_module": "@jupyter-widgets/base",
          "model_name": "LayoutModel",
          "state": {
            "_view_name": "LayoutView",
            "grid_template_rows": null,
            "right": null,
            "justify_content": null,
            "_view_module": "@jupyter-widgets/base",
            "overflow": null,
            "_model_module_version": "1.2.0",
            "_view_count": null,
            "flex_flow": null,
            "width": null,
            "min_width": null,
            "border": null,
            "align_items": null,
            "bottom": null,
            "_model_module": "@jupyter-widgets/base",
            "top": null,
            "grid_column": null,
            "overflow_y": null,
            "overflow_x": null,
            "grid_auto_flow": null,
            "grid_area": null,
            "grid_template_columns": null,
            "flex": null,
            "_model_name": "LayoutModel",
            "justify_items": null,
            "grid_row": null,
            "max_height": null,
            "align_content": null,
            "visibility": null,
            "align_self": null,
            "height": null,
            "min_height": null,
            "padding": null,
            "grid_auto_rows": null,
            "grid_gap": null,
            "max_width": null,
            "order": null,
            "_view_module_version": "1.2.0",
            "grid_template_areas": null,
            "object_position": null,
            "object_fit": null,
            "grid_auto_columns": null,
            "margin": null,
            "display": null,
            "left": null
          }
        },
        "22aa137f5ce64ae682326c9ef0ef0868": {
          "model_module": "@jupyter-widgets/controls",
          "model_name": "DescriptionStyleModel",
          "state": {
            "_view_name": "StyleView",
            "_model_name": "DescriptionStyleModel",
            "description_width": "",
            "_view_module": "@jupyter-widgets/base",
            "_model_module_version": "1.5.0",
            "_view_count": null,
            "_view_module_version": "1.2.0",
            "_model_module": "@jupyter-widgets/controls"
          }
        },
        "5a51836213964bc9a854560965b53391": {
          "model_module": "@jupyter-widgets/base",
          "model_name": "LayoutModel",
          "state": {
            "_view_name": "LayoutView",
            "grid_template_rows": null,
            "right": null,
            "justify_content": null,
            "_view_module": "@jupyter-widgets/base",
            "overflow": null,
            "_model_module_version": "1.2.0",
            "_view_count": null,
            "flex_flow": null,
            "width": null,
            "min_width": null,
            "border": null,
            "align_items": null,
            "bottom": null,
            "_model_module": "@jupyter-widgets/base",
            "top": null,
            "grid_column": null,
            "overflow_y": null,
            "overflow_x": null,
            "grid_auto_flow": null,
            "grid_area": null,
            "grid_template_columns": null,
            "flex": null,
            "_model_name": "LayoutModel",
            "justify_items": null,
            "grid_row": null,
            "max_height": null,
            "align_content": null,
            "visibility": null,
            "align_self": null,
            "height": null,
            "min_height": null,
            "padding": null,
            "grid_auto_rows": null,
            "grid_gap": null,
            "max_width": null,
            "order": null,
            "_view_module_version": "1.2.0",
            "grid_template_areas": null,
            "object_position": null,
            "object_fit": null,
            "grid_auto_columns": null,
            "margin": null,
            "display": null,
            "left": null
          }
        },
        "ee3961b170e44d05ae394569e4671601": {
          "model_module": "@jupyter-widgets/controls",
          "model_name": "HBoxModel",
          "state": {
            "_view_name": "HBoxView",
            "_dom_classes": [],
            "_model_name": "HBoxModel",
            "_view_module": "@jupyter-widgets/controls",
            "_model_module_version": "1.5.0",
            "_view_count": null,
            "_view_module_version": "1.5.0",
            "box_style": "",
            "layout": "IPY_MODEL_e78915c1ac384b57acb5f6313545f82b",
            "_model_module": "@jupyter-widgets/controls",
            "children": [
              "IPY_MODEL_50606dca2f664e5e937885983c4d92d6",
              "IPY_MODEL_fb75b4fca2754db3a698630899b14ffc"
            ]
          }
        },
        "e78915c1ac384b57acb5f6313545f82b": {
          "model_module": "@jupyter-widgets/base",
          "model_name": "LayoutModel",
          "state": {
            "_view_name": "LayoutView",
            "grid_template_rows": null,
            "right": null,
            "justify_content": null,
            "_view_module": "@jupyter-widgets/base",
            "overflow": null,
            "_model_module_version": "1.2.0",
            "_view_count": null,
            "flex_flow": null,
            "width": null,
            "min_width": null,
            "border": null,
            "align_items": null,
            "bottom": null,
            "_model_module": "@jupyter-widgets/base",
            "top": null,
            "grid_column": null,
            "overflow_y": null,
            "overflow_x": null,
            "grid_auto_flow": null,
            "grid_area": null,
            "grid_template_columns": null,
            "flex": null,
            "_model_name": "LayoutModel",
            "justify_items": null,
            "grid_row": null,
            "max_height": null,
            "align_content": null,
            "visibility": null,
            "align_self": null,
            "height": null,
            "min_height": null,
            "padding": null,
            "grid_auto_rows": null,
            "grid_gap": null,
            "max_width": null,
            "order": null,
            "_view_module_version": "1.2.0",
            "grid_template_areas": null,
            "object_position": null,
            "object_fit": null,
            "grid_auto_columns": null,
            "margin": null,
            "display": null,
            "left": null
          }
        },
        "50606dca2f664e5e937885983c4d92d6": {
          "model_module": "@jupyter-widgets/controls",
          "model_name": "FloatProgressModel",
          "state": {
            "_view_name": "ProgressView",
            "style": "IPY_MODEL_d361d4e286f44ac7b441a5dc8e59d150",
            "_dom_classes": [],
            "description": "100%",
            "_model_name": "FloatProgressModel",
            "bar_style": "success",
            "max": 43338,
            "_view_module": "@jupyter-widgets/controls",
            "_model_module_version": "1.5.0",
            "value": 43338,
            "_view_count": null,
            "_view_module_version": "1.5.0",
            "orientation": "horizontal",
            "min": 0,
            "description_tooltip": null,
            "_model_module": "@jupyter-widgets/controls",
            "layout": "IPY_MODEL_8d5ab0f56810467592c20d4c4d3f95d6"
          }
        },
        "fb75b4fca2754db3a698630899b14ffc": {
          "model_module": "@jupyter-widgets/controls",
          "model_name": "HTMLModel",
          "state": {
            "_view_name": "HTMLView",
            "style": "IPY_MODEL_7a227e29818a4ae09a5067a72d527612",
            "_dom_classes": [],
            "description": "",
            "_model_name": "HTMLModel",
            "placeholder": "​",
            "_view_module": "@jupyter-widgets/controls",
            "_model_module_version": "1.5.0",
            "value": " 43338/43338 [35:48&lt;00:00, 20.17it/s]",
            "_view_count": null,
            "_view_module_version": "1.5.0",
            "description_tooltip": null,
            "_model_module": "@jupyter-widgets/controls",
            "layout": "IPY_MODEL_3113794552e24d47bd3cc8df87f93a20"
          }
        },
        "d361d4e286f44ac7b441a5dc8e59d150": {
          "model_module": "@jupyter-widgets/controls",
          "model_name": "ProgressStyleModel",
          "state": {
            "_view_name": "StyleView",
            "_model_name": "ProgressStyleModel",
            "description_width": "initial",
            "_view_module": "@jupyter-widgets/base",
            "_model_module_version": "1.5.0",
            "_view_count": null,
            "_view_module_version": "1.2.0",
            "bar_color": null,
            "_model_module": "@jupyter-widgets/controls"
          }
        },
        "8d5ab0f56810467592c20d4c4d3f95d6": {
          "model_module": "@jupyter-widgets/base",
          "model_name": "LayoutModel",
          "state": {
            "_view_name": "LayoutView",
            "grid_template_rows": null,
            "right": null,
            "justify_content": null,
            "_view_module": "@jupyter-widgets/base",
            "overflow": null,
            "_model_module_version": "1.2.0",
            "_view_count": null,
            "flex_flow": null,
            "width": null,
            "min_width": null,
            "border": null,
            "align_items": null,
            "bottom": null,
            "_model_module": "@jupyter-widgets/base",
            "top": null,
            "grid_column": null,
            "overflow_y": null,
            "overflow_x": null,
            "grid_auto_flow": null,
            "grid_area": null,
            "grid_template_columns": null,
            "flex": null,
            "_model_name": "LayoutModel",
            "justify_items": null,
            "grid_row": null,
            "max_height": null,
            "align_content": null,
            "visibility": null,
            "align_self": null,
            "height": null,
            "min_height": null,
            "padding": null,
            "grid_auto_rows": null,
            "grid_gap": null,
            "max_width": null,
            "order": null,
            "_view_module_version": "1.2.0",
            "grid_template_areas": null,
            "object_position": null,
            "object_fit": null,
            "grid_auto_columns": null,
            "margin": null,
            "display": null,
            "left": null
          }
        },
        "7a227e29818a4ae09a5067a72d527612": {
          "model_module": "@jupyter-widgets/controls",
          "model_name": "DescriptionStyleModel",
          "state": {
            "_view_name": "StyleView",
            "_model_name": "DescriptionStyleModel",
            "description_width": "",
            "_view_module": "@jupyter-widgets/base",
            "_model_module_version": "1.5.0",
            "_view_count": null,
            "_view_module_version": "1.2.0",
            "_model_module": "@jupyter-widgets/controls"
          }
        },
        "3113794552e24d47bd3cc8df87f93a20": {
          "model_module": "@jupyter-widgets/base",
          "model_name": "LayoutModel",
          "state": {
            "_view_name": "LayoutView",
            "grid_template_rows": null,
            "right": null,
            "justify_content": null,
            "_view_module": "@jupyter-widgets/base",
            "overflow": null,
            "_model_module_version": "1.2.0",
            "_view_count": null,
            "flex_flow": null,
            "width": null,
            "min_width": null,
            "border": null,
            "align_items": null,
            "bottom": null,
            "_model_module": "@jupyter-widgets/base",
            "top": null,
            "grid_column": null,
            "overflow_y": null,
            "overflow_x": null,
            "grid_auto_flow": null,
            "grid_area": null,
            "grid_template_columns": null,
            "flex": null,
            "_model_name": "LayoutModel",
            "justify_items": null,
            "grid_row": null,
            "max_height": null,
            "align_content": null,
            "visibility": null,
            "align_self": null,
            "height": null,
            "min_height": null,
            "padding": null,
            "grid_auto_rows": null,
            "grid_gap": null,
            "max_width": null,
            "order": null,
            "_view_module_version": "1.2.0",
            "grid_template_areas": null,
            "object_position": null,
            "object_fit": null,
            "grid_auto_columns": null,
            "margin": null,
            "display": null,
            "left": null
          }
        },
        "3db39ed3c77b45ab86992726d2839b4c": {
          "model_module": "@jupyter-widgets/controls",
          "model_name": "HBoxModel",
          "state": {
            "_view_name": "HBoxView",
            "_dom_classes": [],
            "_model_name": "HBoxModel",
            "_view_module": "@jupyter-widgets/controls",
            "_model_module_version": "1.5.0",
            "_view_count": null,
            "_view_module_version": "1.5.0",
            "box_style": "",
            "layout": "IPY_MODEL_23dcc15b274f463e9bb362d82e39aa61",
            "_model_module": "@jupyter-widgets/controls",
            "children": [
              "IPY_MODEL_e210d1e6323c43b8b74bbaeec8791843",
              "IPY_MODEL_87061cefd61c48319120f502a85b98d2"
            ]
          }
        },
        "23dcc15b274f463e9bb362d82e39aa61": {
          "model_module": "@jupyter-widgets/base",
          "model_name": "LayoutModel",
          "state": {
            "_view_name": "LayoutView",
            "grid_template_rows": null,
            "right": null,
            "justify_content": null,
            "_view_module": "@jupyter-widgets/base",
            "overflow": null,
            "_model_module_version": "1.2.0",
            "_view_count": null,
            "flex_flow": null,
            "width": null,
            "min_width": null,
            "border": null,
            "align_items": null,
            "bottom": null,
            "_model_module": "@jupyter-widgets/base",
            "top": null,
            "grid_column": null,
            "overflow_y": null,
            "overflow_x": null,
            "grid_auto_flow": null,
            "grid_area": null,
            "grid_template_columns": null,
            "flex": null,
            "_model_name": "LayoutModel",
            "justify_items": null,
            "grid_row": null,
            "max_height": null,
            "align_content": null,
            "visibility": null,
            "align_self": null,
            "height": null,
            "min_height": null,
            "padding": null,
            "grid_auto_rows": null,
            "grid_gap": null,
            "max_width": null,
            "order": null,
            "_view_module_version": "1.2.0",
            "grid_template_areas": null,
            "object_position": null,
            "object_fit": null,
            "grid_auto_columns": null,
            "margin": null,
            "display": null,
            "left": null
          }
        },
        "e210d1e6323c43b8b74bbaeec8791843": {
          "model_module": "@jupyter-widgets/controls",
          "model_name": "FloatProgressModel",
          "state": {
            "_view_name": "ProgressView",
            "style": "IPY_MODEL_7d4c855f9a8f42f79f775ca3cc04f0be",
            "_dom_classes": [],
            "description": "100%",
            "_model_name": "FloatProgressModel",
            "bar_style": "success",
            "max": 28872,
            "_view_module": "@jupyter-widgets/controls",
            "_model_module_version": "1.5.0",
            "value": 28872,
            "_view_count": null,
            "_view_module_version": "1.5.0",
            "orientation": "horizontal",
            "min": 0,
            "description_tooltip": null,
            "_model_module": "@jupyter-widgets/controls",
            "layout": "IPY_MODEL_1558d9d08f484f408a151c6c91dcee36"
          }
        },
        "87061cefd61c48319120f502a85b98d2": {
          "model_module": "@jupyter-widgets/controls",
          "model_name": "HTMLModel",
          "state": {
            "_view_name": "HTMLView",
            "style": "IPY_MODEL_47ab99bd31534182b814ac6328a88b43",
            "_dom_classes": [],
            "description": "",
            "_model_name": "HTMLModel",
            "placeholder": "​",
            "_view_module": "@jupyter-widgets/controls",
            "_model_module_version": "1.5.0",
            "value": " 28872/28872 [23:23&lt;00:00, 20.57it/s]",
            "_view_count": null,
            "_view_module_version": "1.5.0",
            "description_tooltip": null,
            "_model_module": "@jupyter-widgets/controls",
            "layout": "IPY_MODEL_33243b843fe446dfa6a1bc93ab2b85d5"
          }
        },
        "7d4c855f9a8f42f79f775ca3cc04f0be": {
          "model_module": "@jupyter-widgets/controls",
          "model_name": "ProgressStyleModel",
          "state": {
            "_view_name": "StyleView",
            "_model_name": "ProgressStyleModel",
            "description_width": "initial",
            "_view_module": "@jupyter-widgets/base",
            "_model_module_version": "1.5.0",
            "_view_count": null,
            "_view_module_version": "1.2.0",
            "bar_color": null,
            "_model_module": "@jupyter-widgets/controls"
          }
        },
        "1558d9d08f484f408a151c6c91dcee36": {
          "model_module": "@jupyter-widgets/base",
          "model_name": "LayoutModel",
          "state": {
            "_view_name": "LayoutView",
            "grid_template_rows": null,
            "right": null,
            "justify_content": null,
            "_view_module": "@jupyter-widgets/base",
            "overflow": null,
            "_model_module_version": "1.2.0",
            "_view_count": null,
            "flex_flow": null,
            "width": null,
            "min_width": null,
            "border": null,
            "align_items": null,
            "bottom": null,
            "_model_module": "@jupyter-widgets/base",
            "top": null,
            "grid_column": null,
            "overflow_y": null,
            "overflow_x": null,
            "grid_auto_flow": null,
            "grid_area": null,
            "grid_template_columns": null,
            "flex": null,
            "_model_name": "LayoutModel",
            "justify_items": null,
            "grid_row": null,
            "max_height": null,
            "align_content": null,
            "visibility": null,
            "align_self": null,
            "height": null,
            "min_height": null,
            "padding": null,
            "grid_auto_rows": null,
            "grid_gap": null,
            "max_width": null,
            "order": null,
            "_view_module_version": "1.2.0",
            "grid_template_areas": null,
            "object_position": null,
            "object_fit": null,
            "grid_auto_columns": null,
            "margin": null,
            "display": null,
            "left": null
          }
        },
        "47ab99bd31534182b814ac6328a88b43": {
          "model_module": "@jupyter-widgets/controls",
          "model_name": "DescriptionStyleModel",
          "state": {
            "_view_name": "StyleView",
            "_model_name": "DescriptionStyleModel",
            "description_width": "",
            "_view_module": "@jupyter-widgets/base",
            "_model_module_version": "1.5.0",
            "_view_count": null,
            "_view_module_version": "1.2.0",
            "_model_module": "@jupyter-widgets/controls"
          }
        },
        "33243b843fe446dfa6a1bc93ab2b85d5": {
          "model_module": "@jupyter-widgets/base",
          "model_name": "LayoutModel",
          "state": {
            "_view_name": "LayoutView",
            "grid_template_rows": null,
            "right": null,
            "justify_content": null,
            "_view_module": "@jupyter-widgets/base",
            "overflow": null,
            "_model_module_version": "1.2.0",
            "_view_count": null,
            "flex_flow": null,
            "width": null,
            "min_width": null,
            "border": null,
            "align_items": null,
            "bottom": null,
            "_model_module": "@jupyter-widgets/base",
            "top": null,
            "grid_column": null,
            "overflow_y": null,
            "overflow_x": null,
            "grid_auto_flow": null,
            "grid_area": null,
            "grid_template_columns": null,
            "flex": null,
            "_model_name": "LayoutModel",
            "justify_items": null,
            "grid_row": null,
            "max_height": null,
            "align_content": null,
            "visibility": null,
            "align_self": null,
            "height": null,
            "min_height": null,
            "padding": null,
            "grid_auto_rows": null,
            "grid_gap": null,
            "max_width": null,
            "order": null,
            "_view_module_version": "1.2.0",
            "grid_template_areas": null,
            "object_position": null,
            "object_fit": null,
            "grid_auto_columns": null,
            "margin": null,
            "display": null,
            "left": null
          }
        },
        "e697962492c04400a32f7d661191d377": {
          "model_module": "@jupyter-widgets/controls",
          "model_name": "HBoxModel",
          "state": {
            "_view_name": "HBoxView",
            "_dom_classes": [],
            "_model_name": "HBoxModel",
            "_view_module": "@jupyter-widgets/controls",
            "_model_module_version": "1.5.0",
            "_view_count": null,
            "_view_module_version": "1.5.0",
            "box_style": "",
            "layout": "IPY_MODEL_b770c574e85947819ca7cbed77162a9c",
            "_model_module": "@jupyter-widgets/controls",
            "children": [
              "IPY_MODEL_c3da76278efa4f82bc281c544a03d3c6",
              "IPY_MODEL_eb7f819f64b54dae938747a021bcf54e"
            ]
          }
        },
        "b770c574e85947819ca7cbed77162a9c": {
          "model_module": "@jupyter-widgets/base",
          "model_name": "LayoutModel",
          "state": {
            "_view_name": "LayoutView",
            "grid_template_rows": null,
            "right": null,
            "justify_content": null,
            "_view_module": "@jupyter-widgets/base",
            "overflow": null,
            "_model_module_version": "1.2.0",
            "_view_count": null,
            "flex_flow": null,
            "width": null,
            "min_width": null,
            "border": null,
            "align_items": null,
            "bottom": null,
            "_model_module": "@jupyter-widgets/base",
            "top": null,
            "grid_column": null,
            "overflow_y": null,
            "overflow_x": null,
            "grid_auto_flow": null,
            "grid_area": null,
            "grid_template_columns": null,
            "flex": null,
            "_model_name": "LayoutModel",
            "justify_items": null,
            "grid_row": null,
            "max_height": null,
            "align_content": null,
            "visibility": null,
            "align_self": null,
            "height": null,
            "min_height": null,
            "padding": null,
            "grid_auto_rows": null,
            "grid_gap": null,
            "max_width": null,
            "order": null,
            "_view_module_version": "1.2.0",
            "grid_template_areas": null,
            "object_position": null,
            "object_fit": null,
            "grid_auto_columns": null,
            "margin": null,
            "display": null,
            "left": null
          }
        },
        "c3da76278efa4f82bc281c544a03d3c6": {
          "model_module": "@jupyter-widgets/controls",
          "model_name": "FloatProgressModel",
          "state": {
            "_view_name": "ProgressView",
            "style": "IPY_MODEL_c0b92860bec84657b1120049b8ddd27d",
            "_dom_classes": [],
            "description": "100%",
            "_model_name": "FloatProgressModel",
            "bar_style": "success",
            "max": 43338,
            "_view_module": "@jupyter-widgets/controls",
            "_model_module_version": "1.5.0",
            "value": 43338,
            "_view_count": null,
            "_view_module_version": "1.5.0",
            "orientation": "horizontal",
            "min": 0,
            "description_tooltip": null,
            "_model_module": "@jupyter-widgets/controls",
            "layout": "IPY_MODEL_ef593773d1e347b1b0b573322be5be82"
          }
        },
        "eb7f819f64b54dae938747a021bcf54e": {
          "model_module": "@jupyter-widgets/controls",
          "model_name": "HTMLModel",
          "state": {
            "_view_name": "HTMLView",
            "style": "IPY_MODEL_868959fe663641e083806d577e0872ab",
            "_dom_classes": [],
            "description": "",
            "_model_name": "HTMLModel",
            "placeholder": "​",
            "_view_module": "@jupyter-widgets/controls",
            "_model_module_version": "1.5.0",
            "value": " 43338/43338 [14:20&lt;00:00, 50.36it/s]",
            "_view_count": null,
            "_view_module_version": "1.5.0",
            "description_tooltip": null,
            "_model_module": "@jupyter-widgets/controls",
            "layout": "IPY_MODEL_c916eef32b2a4470895d941e62218aed"
          }
        },
        "c0b92860bec84657b1120049b8ddd27d": {
          "model_module": "@jupyter-widgets/controls",
          "model_name": "ProgressStyleModel",
          "state": {
            "_view_name": "StyleView",
            "_model_name": "ProgressStyleModel",
            "description_width": "initial",
            "_view_module": "@jupyter-widgets/base",
            "_model_module_version": "1.5.0",
            "_view_count": null,
            "_view_module_version": "1.2.0",
            "bar_color": null,
            "_model_module": "@jupyter-widgets/controls"
          }
        },
        "ef593773d1e347b1b0b573322be5be82": {
          "model_module": "@jupyter-widgets/base",
          "model_name": "LayoutModel",
          "state": {
            "_view_name": "LayoutView",
            "grid_template_rows": null,
            "right": null,
            "justify_content": null,
            "_view_module": "@jupyter-widgets/base",
            "overflow": null,
            "_model_module_version": "1.2.0",
            "_view_count": null,
            "flex_flow": null,
            "width": null,
            "min_width": null,
            "border": null,
            "align_items": null,
            "bottom": null,
            "_model_module": "@jupyter-widgets/base",
            "top": null,
            "grid_column": null,
            "overflow_y": null,
            "overflow_x": null,
            "grid_auto_flow": null,
            "grid_area": null,
            "grid_template_columns": null,
            "flex": null,
            "_model_name": "LayoutModel",
            "justify_items": null,
            "grid_row": null,
            "max_height": null,
            "align_content": null,
            "visibility": null,
            "align_self": null,
            "height": null,
            "min_height": null,
            "padding": null,
            "grid_auto_rows": null,
            "grid_gap": null,
            "max_width": null,
            "order": null,
            "_view_module_version": "1.2.0",
            "grid_template_areas": null,
            "object_position": null,
            "object_fit": null,
            "grid_auto_columns": null,
            "margin": null,
            "display": null,
            "left": null
          }
        },
        "868959fe663641e083806d577e0872ab": {
          "model_module": "@jupyter-widgets/controls",
          "model_name": "DescriptionStyleModel",
          "state": {
            "_view_name": "StyleView",
            "_model_name": "DescriptionStyleModel",
            "description_width": "",
            "_view_module": "@jupyter-widgets/base",
            "_model_module_version": "1.5.0",
            "_view_count": null,
            "_view_module_version": "1.2.0",
            "_model_module": "@jupyter-widgets/controls"
          }
        },
        "c916eef32b2a4470895d941e62218aed": {
          "model_module": "@jupyter-widgets/base",
          "model_name": "LayoutModel",
          "state": {
            "_view_name": "LayoutView",
            "grid_template_rows": null,
            "right": null,
            "justify_content": null,
            "_view_module": "@jupyter-widgets/base",
            "overflow": null,
            "_model_module_version": "1.2.0",
            "_view_count": null,
            "flex_flow": null,
            "width": null,
            "min_width": null,
            "border": null,
            "align_items": null,
            "bottom": null,
            "_model_module": "@jupyter-widgets/base",
            "top": null,
            "grid_column": null,
            "overflow_y": null,
            "overflow_x": null,
            "grid_auto_flow": null,
            "grid_area": null,
            "grid_template_columns": null,
            "flex": null,
            "_model_name": "LayoutModel",
            "justify_items": null,
            "grid_row": null,
            "max_height": null,
            "align_content": null,
            "visibility": null,
            "align_self": null,
            "height": null,
            "min_height": null,
            "padding": null,
            "grid_auto_rows": null,
            "grid_gap": null,
            "max_width": null,
            "order": null,
            "_view_module_version": "1.2.0",
            "grid_template_areas": null,
            "object_position": null,
            "object_fit": null,
            "grid_auto_columns": null,
            "margin": null,
            "display": null,
            "left": null
          }
        }
      }
    }
  },
  "cells": [
    {
      "cell_type": "code",
      "metadata": {
        "colab": {
          "base_uri": "https://localhost:8080/"
        },
        "id": "nnrc17PfrsTl",
        "outputId": "9aeca063-38f4-455f-b140-a133b77f4c63"
      },
      "source": [
        "import torch\n",
        "import multiprocessing\n",
        "cores = multiprocessing.cpu_count()\n",
        "cores"
      ],
      "execution_count": null,
      "outputs": [
        {
          "output_type": "execute_result",
          "data": {
            "text/plain": [
              "4"
            ]
          },
          "metadata": {
            "tags": []
          },
          "execution_count": 1
        }
      ]
    },
    {
      "cell_type": "code",
      "metadata": {
        "id": "UnG0vvArEUrW"
      },
      "source": [
        "import os\n",
        "from tqdm import tqdm_notebook\n",
        "from gensim.models.doc2vec import Doc2Vec, TaggedDocument\n",
        "import pandas as pd\n",
        "from sklearn import utils\n",
        "DIR = '/content/drive/My Drive/Uniprot/'"
      ],
      "execution_count": null,
      "outputs": []
    },
    {
      "cell_type": "code",
      "metadata": {
        "id": "FR7RdUZhEXtK"
      },
      "source": [
        "train_tagged_file = os.path.join(DIR, 'tagged_data/sequences/train/train.pkl')\n",
        "test_tagged_file = os.path.join(DIR, 'tagged_data/sequences/test/test.pkl')"
      ],
      "execution_count": null,
      "outputs": []
    },
    {
      "cell_type": "code",
      "metadata": {
        "colab": {
          "base_uri": "https://localhost:8080/",
          "height": 116,
          "referenced_widgets": [
            "64dc26a471ae41d8b047db4579a9063b",
            "4e6fd99d4ff647abac32b2b8415e1c2f",
            "0c09cd16c7464ad0b40a8f1967f52e2f",
            "4f1c66891a1d41069179b421ee12fe88",
            "24c5131d0d974834bc23f103531371e0",
            "dc03a7af69c4403998309872c55b87d5",
            "6c78cc8dae45433684e68f3e2c5f61e3",
            "427d1c68240545819b922af2500348eb"
          ]
        },
        "id": "MRcBTSJVkcdp",
        "outputId": "3ad38066-6f24-428b-c374-9760338b8baf"
      },
      "source": [
        "from tqdm import tqdm_notebook\n",
        "model_dbow = Doc2Vec(dm=0, vector_size=512, window=32, negative=4, min_count=2, workers=cores, alpha=0.08, min_alpha=0.001, hs=0)\n",
        "model_dbow.build_vocab([x for x in tqdm_notebook(train_tagged)])\n",
        "model_dmm = Doc2Vec(dm=1, vector_size=512, window=32, negative=4, min_count=2, workers=cores, alpha=0.08, min_alpha=0.001, hs=0, dm_mean=0)\n",
        "model_dmm.build_vocab([x for x in tqdm_notebook(train_tagged)])\n",
        "model_dmc = Doc2Vec(dm=1, dm_concat=0, vector_size=512, window=32, negative=4, min_count=2, workers=cores, alpha=0.08, min_alpha=0.001)\n",
        "model_dmc.build_vocab([x for x in tqdm_notebook(train_tagged)])"
      ],
      "execution_count": null,
      "outputs": [
        {
          "output_type": "stream",
          "text": [
            "/usr/local/lib/python3.6/dist-packages/ipykernel_launcher.py:3: TqdmDeprecationWarning: This function will be removed in tqdm==5.0.0\n",
            "Please use `tqdm.notebook.tqdm` instead of `tqdm.tqdm_notebook`\n",
            "  This is separate from the ipykernel package so we can avoid doing imports until\n"
          ],
          "name": "stderr"
        },
        {
          "output_type": "display_data",
          "data": {
            "application/vnd.jupyter.widget-view+json": {
              "model_id": "64dc26a471ae41d8b047db4579a9063b",
              "version_major": 2,
              "version_minor": 0
            },
            "text/plain": [
              "HBox(children=(FloatProgress(value=0.0, max=50572.0), HTML(value='')))"
            ]
          },
          "metadata": {
            "tags": []
          }
        },
        {
          "output_type": "stream",
          "text": [
            "\n"
          ],
          "name": "stdout"
        }
      ]
    },
    {
      "cell_type": "code",
      "metadata": {
        "colab": {
          "base_uri": "https://localhost:8080/",
          "height": 116,
          "referenced_widgets": [
            "3f1adda5a7c442218d3e2a355612ecd2",
            "aca68c4a76ce4de3878a7ed57d29161c",
            "35c9d04f8c1f4c2c934514b177f9972a",
            "a2a63e85866f4589af15379122936c02",
            "b825c5d9506546a7a5c9b76bc9d3e15a",
            "e15c84bbffbd4e61a63c4f7b572a063b",
            "1b73ba2c78ac4b379b385c99e086a97d",
            "49a757315c594483ae459108bf980a67"
          ]
        },
        "id": "vKOBDXwkkdEA",
        "outputId": "4a754feb-4398-42c1-8dfe-0ee9f567de93"
      },
      "source": [
        "tokens = [x for x in train_tagged.values]\n",
        "for epoch in tqdm_notebook(range(10)):\n",
        "    model_dbow.train(utils.shuffle(tokens), total_examples=len(train_tagged.values), epochs=1)\n",
        "    model_dbow.alpha -= 0.002\n",
        "    # model_dmm.train(utils.shuffle(tokens), total_examples=len(train_tagged.values), epochs=1)\n",
        "    # model_dmm.alpha -= 0.002\n",
        "    # model_dmc.train(utils.shuffle(tokens), total_examples=len(train_tagged.values), epochs=1)\n",
        "    # model_dmc.alpha -= 0.002"
      ],
      "execution_count": null,
      "outputs": [
        {
          "output_type": "stream",
          "text": [
            "/usr/local/lib/python3.6/dist-packages/ipykernel_launcher.py:2: TqdmDeprecationWarning: This function will be removed in tqdm==5.0.0\n",
            "Please use `tqdm.notebook.tqdm` instead of `tqdm.tqdm_notebook`\n",
            "  \n"
          ],
          "name": "stderr"
        },
        {
          "output_type": "display_data",
          "data": {
            "application/vnd.jupyter.widget-view+json": {
              "model_id": "3f1adda5a7c442218d3e2a355612ecd2",
              "version_major": 2,
              "version_minor": 0
            },
            "text/plain": [
              "HBox(children=(FloatProgress(value=0.0, max=10.0), HTML(value='')))"
            ]
          },
          "metadata": {
            "tags": []
          }
        },
        {
          "output_type": "stream",
          "text": [
            "\n"
          ],
          "name": "stdout"
        }
      ]
    },
    {
      "cell_type": "code",
      "metadata": {
        "colab": {
          "base_uri": "https://localhost:8080/",
          "height": 70
        },
        "id": "lRk08st7kdLr",
        "outputId": "c7a5bd33-aa16-451d-ba96-222d0b20f228"
      },
      "source": [
        "model_dbow.save(DIR + 'tagged_data/sequences/dbow/model/model_dbow')\n",
        "# model_dmm.save(DIR + 'tagged_data/sequences/dmm/model/model_dmm')\n",
        "# model_dmc.save(DIR + 'tagged_data/sequences/dmc/model/model_dmc')"
      ],
      "execution_count": null,
      "outputs": [
        {
          "output_type": "stream",
          "text": [
            "/usr/local/lib/python3.6/dist-packages/smart_open/smart_open_lib.py:252: UserWarning: This function is deprecated, use smart_open.open instead. See the migration notes for details: https://github.com/RaRe-Technologies/smart_open/blob/master/README.rst#migrating-to-the-new-open-function\n",
            "  'See the migration notes for details: %s' % _MIGRATION_NOTES_URL\n"
          ],
          "name": "stderr"
        }
      ]
    },
    {
      "cell_type": "code",
      "metadata": {
        "id": "Wp9yLFHjtOy0"
      },
      "source": [
        "def vec_for_learning(model, tagged_docs):\n",
        "    sents = tagged_docs.values\n",
        "    targets, regressors = zip(*[(doc.tags[0], model.infer_vector(doc.words, epochs=20)) for doc in sents])\n",
        "    return targets, regressors"
      ],
      "execution_count": null,
      "outputs": []
    },
    {
      "cell_type": "code",
      "metadata": {
        "colab": {
          "base_uri": "https://localhost:8080/",
          "height": 50
        },
        "id": "ogkfTIlHkc8S",
        "outputId": "684e6d26-bdd0-4977-d269-802895982d86"
      },
      "source": [
        "train_tagged = pd.read_pickle(train_tagged_file)\n",
        "test_tagged = pd.read_pickle(test_tagged_file)\n",
        "# print('[TRAIN_LOADED]')\n",
        "import pickle\n",
        "# ctr = 33\n",
        "# for i in tqdm_notebook(range(33*10000, len(train_tagged), 10000)):\n",
        "#     y_train, X_train = vec_for_learning(model_dbow, train_tagged[i:i+10000])\n",
        "#     ctr += 1\n",
        "#     with open(DIR + 'tagged_data/annotations/dbow/train/regressors' + str(ctr) + '.pkl', 'wb') as fp:\n",
        "#         pickle.dump(X_train, fp)\n",
        "#     with open(DIR + 'tagged_data/annotations/dbow/train/targets' + str(ctr) + '.pkl', 'wb') as fp:\n",
        "#         pickle.dump(y_train, fp)\n",
        "#     print(f'[TRAIN-{ctr}-COMPLETE]')\n",
        "def get_vectors(model, train_tagged, name, training=True):\n",
        "    y_train, X_train = vec_for_learning(model, train_tagged)\n",
        "    if training:\n",
        "        dir = 'train'\n",
        "    else:\n",
        "        dir = 'test'\n",
        "    with open(DIR + 'tagged_data/sequences/' + name + '/' + dir + '/regressors.pkl', 'wb') as fp:\n",
        "        pickle.dump(X_train, fp)\n",
        "    with open(DIR + 'tagged_data/sequences/' + name + '/' + dir + '/targets.pkl', 'wb') as fp:\n",
        "        pickle.dump(y_train, fp)\n",
        "    print(f'[TRAIN-' + name + '-' + dir +  '-COMPLETE]')\n",
        "get_vectors(model_dbow, train_tagged, 'dbow', True)\n",
        "get_vectors(model_dbow, test_tagged, 'dbow', False)\n",
        "# get_vectors(model_dmm, train_tagged, 'dmm', True)\n",
        "# get_vectors(model_dmm, test_tagged, 'dmm', False)\n",
        "# get_vectors(model_dmc, train_tagged, 'dmc', True)\n",
        "# get_vectors(model_dmc, test_tagged, 'dmc', False)"
      ],
      "execution_count": null,
      "outputs": [
        {
          "output_type": "stream",
          "text": [
            "[TRAIN-dbow-train-COMPLETE]\n",
            "[TRAIN-dbow-test-COMPLETE]\n"
          ],
          "name": "stdout"
        }
      ]
    },
    {
      "cell_type": "code",
      "metadata": {
        "id": "BfIbO4hzv1nM"
      },
      "source": [
        "def get_concat_vectors(model1,model2, corpus, size):\n",
        "    vecs = np.zeros((len(corpus), size))\n",
        "    n = 0\n",
        "    for i in corpus.index:\n",
        "        prefix = 'all_' + str(i)\n",
        "        vecs[n] = np.append(model1.docvecs[prefix],model2.docvecs[prefix])\n",
        "        n += 1\n",
        "    return vecs\n",
        "\n",
        "def get_contact_three_vectors(model1, model2, model3, corpus, size)\n",
        "    vecs = np.zeros((len(corpus), size))\n",
        "    n = 0\n",
        "    for i in tqdm_notebook(corpus.index):\n",
        "        prefix = 'all_' + str(i)\n",
        "        vecs[n] = np.append(model1.docvecs[prefix],model2.docvecs[prefix],model3.docvecs[prefix])\n",
        "        n += 1\n",
        "    return vecs\n",
        "\n",
        "\n",
        "X_train_dbow_dmm = get_concat_vectors(model_dbow,model_dmm, X_train, 512)\n",
        "X_train_dbow_dmm = get_concat_vectors(model_dbow,model_dmm, X_test, 512)\n",
        "print('[DBOW+DMM] -- Concatenated')\n",
        "\n",
        "with open(DIR + 'tagged_data/sequences/dbow+dmm/train/regressors.pkl', 'wb') as fp:\n",
        "    pickle.dump(X_train_dbow_dmm, fp)\n",
        "with open(DIR + 'tagged_data/sequences/dbow+dmm/test/regressors.pkl', 'wb') as fp:\n",
        "    pickle.dump(X_test_dbow_dmm, fp)\n",
        "print('[DBOW+DMM] -- Dumped')\n",
        "\n",
        "\n",
        "X_train_dmm_dmc = get_concat_vectors(model_dmm,model_dmc, X_train, 512)\n",
        "X_train_dmm_dmc = get_concat_vectors(model_dmm,model_dmc, X_test, 512)\n",
        "print('[DMM+DMC] -- Concatenated')\n",
        "\n",
        "with open(DIR + 'tagged_data/sequences/dmm+dmc/train/regressors.pkl', 'wb') as fp:\n",
        "    pickle.dump(X_train_dmm_dmc, fp)\n",
        "with open(DIR + 'tagged_data/sequences/dmm+dmc/test/regressors.pkl', 'wb') as fp:\n",
        "    pickle.dump(X_test_dmm_dmc, fp)\n",
        "print('[DMM+DMC] -- Dumped')\n",
        "\n",
        "\n",
        "X_train_dbow_dmc = get_concat_vectors(model_dbow,model_dmc, X_train, 512)\n",
        "X_train_dbow_dmc = get_concat_vectors(model_dbow,model_dmc, X_test, 512)\n",
        "print('[DBOW+DMC] -- Concatenated')\n",
        "\n",
        "with open(DIR + 'tagged_data/sequences/dbow+dmc/train/regressors.pkl', 'wb') as fp:\n",
        "    pickle.dump(X_train_dbow_dmc, fp)\n",
        "with open(DIR + 'tagged_data/sequences/dbow+dmc/test/regressors.pkl', 'wb') as fp:\n",
        "    pickle.dump(X_test_dbow_dmc, fp)\n",
        "print('[DBOW+DMC] -- Dumped')\n",
        "\n",
        "\n",
        "X_train_dbow_dmm_dmc = get_concat_vectors(model_dbow,model_dmm,model_dmc, X_train, 512)\n",
        "X_train_dbow_dmm_dmc = get_concat_vectors(model_dbow,model_dmm,model_dmc, X_test, 512)\n",
        "print('[DBOW+DMM+DMC] -- Concatenated')\n",
        "\n",
        "with open(DIR + 'tagged_data/sequences/dbow+dmm+dmc/train/regressors.pkl', 'wb') as fp:\n",
        "    pickle.dump(X_train_dbow_dmm_dmc, fp)\n",
        "with open(DIR + 'tagged_data/sequences/dbow+dmm+dmc/test/regressors.pkl', 'wb') as fp:\n",
        "    pickle.dump(X_test_dbow_dmm_dmc, fp)\n",
        "print('[DBOW+DMM+DMC] -- Dumped')"
      ],
      "execution_count": null,
      "outputs": []
    },
    {
      "cell_type": "code",
      "metadata": {
        "id": "sI4qVtgAIUqV"
      },
      "source": [
        "import pickle\n",
        "with open(DIR + 'tagged_data/sequences/dbow/test/regressors.pkl', 'rb') as fp:\n",
        "    X_test = pickle.load(fp)\n",
        "with open(DIR + 'tagged_data/sequences/dbow/test/targets.pkl', 'rb') as fp:\n",
        "    y_test = pickle.load(fp)\n",
        "with open(DIR + 'tagged_data/sequences/dbow/train/regressors.pkl', 'rb') as fp:\n",
        "    X_train = pickle.load(fp)    \n",
        "with open(DIR + 'tagged_data/sequences/dbow/train/targets.pkl', 'rb') as fp:\n",
        "    y_train = pickle.load(fp)"
      ],
      "execution_count": null,
      "outputs": []
    },
    {
      "cell_type": "code",
      "metadata": {
        "id": "72efe5XzIw1V"
      },
      "source": [
        "from sklearn.preprocessing import MinMaxScaler, StandardScaler, RobustScaler\n",
        "scaler = MinMaxScaler()\n",
        "from tqdm import tqdm_notebook\n",
        "X_train = scaler.fit_transform(X_train)\n",
        "X_test = scaler.fit_transform(X_test)"
      ],
      "execution_count": null,
      "outputs": []
    },
    {
      "cell_type": "code",
      "metadata": {
        "colab": {
          "base_uri": "https://localhost:8080/",
          "height": 34
        },
        "id": "oY14qppWJIMI",
        "outputId": "f5f85b0d-f95f-4466-9536-06392de094a3"
      },
      "source": [
        "print(len(X_train),len(y_train), len(X_test), len(y_test))"
      ],
      "execution_count": null,
      "outputs": [
        {
          "output_type": "stream",
          "text": [
            "50572 50572 21674 21674\n"
          ],
          "name": "stdout"
        }
      ]
    },
    {
      "cell_type": "code",
      "metadata": {
        "id": "1XMNxbnVlM5q"
      },
      "source": [
        "from sklearn.model_selection import cross_val_score\n",
        "neighbors = list(range(2, 30))\n",
        "\n",
        "# empty list that will hold cv scores\n",
        "cv_scores = []\n",
        "\n",
        "# perform 10-fold cross validation\n",
        "for k in tqdm_notebook(neighbors):\n",
        "    model = knn(n_neighbors=k, weights='distance', algorithm='auto', metric='euclidean', n_jobs=-1)\n",
        "    print('[SKELETON_FORMED]')\n",
        "    scores = cross_val_score(model, X_train, y_train, cv=10, scoring='accuracy', verbose=6)\n",
        "    print(scores.mean())\n",
        "    cv_scores.append(scores.mean())"
      ],
      "execution_count": null,
      "outputs": []
    },
    {
      "cell_type": "code",
      "metadata": {
        "colab": {
          "base_uri": "https://localhost:8080/"
        },
        "id": "m3aLlW-PJNGk",
        "outputId": "03c88448-55ae-4551-9c76-fa6f27a894b5"
      },
      "source": [
        "import pickle\n",
        "\n",
        "from sklearn.neighbors import KNeighborsClassifier as knn\n",
        "from tqdm import tqdm_notebook\n",
        "import random\n",
        "model = knn(n_neighbors= 7, weights='distance', algorithm='auto', metric='euclidean', n_jobs=-1)\n",
        "print('[MODEL CREATED]')\n",
        "model.fit(X_train1, y_train1)\n",
        "print('[TRAINING COMPLETE]')\n",
        "# with open(DIR + 'tagged_data/sequences/knn/model_dbow', 'wb') as fp:\n",
        "#     pickle.dump(model, fp)\n",
        "# print('[MODEL DUMPED]')"
      ],
      "execution_count": null,
      "outputs": [
        {
          "output_type": "stream",
          "text": [
            "[MODEL CREATED]\n",
            "[TRAINING COMPLETE]\n"
          ],
          "name": "stdout"
        }
      ]
    },
    {
      "cell_type": "code",
      "metadata": {
        "colab": {
          "base_uri": "https://localhost:8080/"
        },
        "id": "bpXlDc0rJtd4",
        "outputId": "af7207d1-f94d-459f-cad6-7e173530d0b9"
      },
      "source": [
        "from sklearn.metrics import accuracy_score\n",
        "import time\n",
        "idxs = [i for i in range(len(X_test1))]\n",
        "total = 0\n",
        "# for i in tqdm_notebook(range(10)):\n",
        "#     correct = 0\n",
        "#     for  j in range(101):\n",
        "#         idx = random.choice(idxs)\n",
        "#         if model.predict([X_test1[idx]]) == y_test1[idx]:\n",
        "#             correct += 1\n",
        "#     accuracy = round(correct/101, 4)\n",
        "#     print('[ACCURACY] - ', accuracy)\n",
        "#     total += accuracy\n",
        "# print('Average Testing Accuracy: ', total/10)\n",
        "start = time.time()\n",
        "y_pred = model.predict(x2)\n",
        "accuracy = accuracy_score(y_test1, y_pred)\n",
        "print('Testing Accuracy: ' ,accuracy)\n",
        "print((time.time()-start)/60, ' minutes')"
      ],
      "execution_count": null,
      "outputs": [
        {
          "output_type": "stream",
          "text": [
            "Testing Accuracy:  0.9439446366782007\n",
            "0.6532823363939921  minutes\n"
          ],
          "name": "stdout"
        }
      ]
    },
    {
      "cell_type": "code",
      "metadata": {
        "colab": {
          "base_uri": "https://localhost:8080/",
          "height": 301,
          "referenced_widgets": [
            "e59f869436b34cd4be9bc62bb649fd4a",
            "cae69f2fd16e48dd9e714f0a9e457f0e",
            "92fb844e57ce4f1d855d03618aaff3ab",
            "c760c76af675407db5358a94bbf6817b",
            "2401e0f9da9a4d5cb96e059dd47b103f",
            "33cb154e92c04797b5dd638fe8b04cc9",
            "ae31be39acfc437d92ef45d4a206bc87",
            "cc4fe4d1999746b99972ace260f64c73"
          ]
        },
        "id": "RE0swh2qJo2P",
        "outputId": "e21490b1-b707-4653-a98d-e0b8e92d6560"
      },
      "source": [
        "idxs = [i for i in  range(len(X_train))]\n",
        "total = 0\n",
        "for i in tqdm_notebook(range(10)):\n",
        "    correct = 0\n",
        "    for  j in range(101):\n",
        "        idx = random.choice(idxs)\n",
        "        if model.predict([X_train[idx]]) == y_train[idx]:\n",
        "            correct += 1\n",
        "    accuracy = round(correct/101, 4)\n",
        "    print('[ACCURACY] - ', accuracy)\n",
        "    total += accuracy\n",
        "print('Average Training Accuracy: ', total/10)"
      ],
      "execution_count": null,
      "outputs": [
        {
          "output_type": "stream",
          "text": [
            "/usr/local/lib/python3.6/dist-packages/ipykernel_launcher.py:3: TqdmDeprecationWarning: This function will be removed in tqdm==5.0.0\n",
            "Please use `tqdm.notebook.tqdm` instead of `tqdm.tqdm_notebook`\n",
            "  This is separate from the ipykernel package so we can avoid doing imports until\n"
          ],
          "name": "stderr"
        },
        {
          "output_type": "display_data",
          "data": {
            "application/vnd.jupyter.widget-view+json": {
              "model_id": "e59f869436b34cd4be9bc62bb649fd4a",
              "version_major": 2,
              "version_minor": 0
            },
            "text/plain": [
              "HBox(children=(FloatProgress(value=0.0, max=10.0), HTML(value='')))"
            ]
          },
          "metadata": {
            "tags": []
          }
        },
        {
          "output_type": "stream",
          "text": [
            "[ACCURACY] -  1.0\n",
            "[ACCURACY] -  1.0\n",
            "[ACCURACY] -  1.0\n",
            "[ACCURACY] -  1.0\n",
            "[ACCURACY] -  1.0\n",
            "[ACCURACY] -  1.0\n",
            "[ACCURACY] -  1.0\n",
            "[ACCURACY] -  1.0\n",
            "[ACCURACY] -  1.0\n",
            "[ACCURACY] -  1.0\n",
            "\n",
            "Average Training Accuracy:  1.0\n"
          ],
          "name": "stdout"
        }
      ]
    },
    {
      "cell_type": "code",
      "metadata": {
        "colab": {
          "base_uri": "https://localhost:8080/",
          "height": 287,
          "referenced_widgets": [
            "37887de5c80545f894fd430ce59ce51a",
            "905bacd30fdc4239975283834cc7c58f",
            "e84783436d2a43b1a17f057c1cafa62f",
            "cfcb157a75604925b3c76eaff77a04e9",
            "006d56b10d13446099a4b4bfe183d130",
            "52a7ae4271d84cd883a04b511870776f",
            "57e4564d71ec4e99bac2a2e9224aa4a0",
            "10588ae2230d4fdd9e3ea26733d12dc1"
          ]
        },
        "id": "haZkDRzPaSl5",
        "outputId": "b179e8d6-268b-4a43-8392-457bade9fc6e"
      },
      "source": [
        "# train a doc2vec model\n",
        "\n",
        "from sklearn.neural_network import MLPClassifier\n",
        "from sklearn.neighbors import KNeighborsClassifier as knn\n",
        "from tqdm import tqdm_notebook\n",
        "import random\n",
        "import pandas as pd\n",
        "\n",
        "train_tagged_file = DIR + 'tagged_data/sequences/train/train.pkl'\n",
        "test_tagged_file = DIR + 'tagged_data/sequences/test/test.pkl'\n",
        "train_tagged = pd.read_pickle(train_tagged_file)\n",
        "test_tagged = pd.read_pickle(test_tagged_file)\n",
        "complete_data = pd.concat([train_tagged, test_tagged])\n",
        "import pickle\n",
        "# with open (DIR+'tagged_data/sequences/complete_data/data.pkl', 'wb') as fp:\n",
        "#     pickle.dump(data, fp)\n",
        "complete_data = complete_data.sample(frac=1)\n",
        "temp = []\n",
        "for entry in complete_data:\n",
        "    if entry[1][0].endswith('\\n'):\n",
        "        tag = [entry[1][0][:-1]]\n",
        "    else:\n",
        "        tag = entry[1]\n",
        "    temp.append(TaggedDocument([x for x in entry[0]], tag))\n",
        "complete_data = pd.Series(temp)\n",
        "freq = {}\n",
        "\n",
        "print(\"[CREATING FREQ TABLE]\")\n",
        "for entry in complete_data.values:\n",
        "    if entry[1][0] in freq.keys():\n",
        "        freq[entry[1][0]] += 1\n",
        "    else:\n",
        "        freq[entry[1][0]] = 1\n",
        "# x = 1/0\n",
        "\n",
        "top_freq = {}\n",
        "for k, v in freq.items():\n",
        "    if v >= 1000:\n",
        "        top_freq[k] = v\n",
        "print(len(list(top_freq.keys())))\n",
        "data = []\n",
        "with open(DIR + 'tagged_data/sequences/dbow/top_freq1.pkl', 'wb') as fp:\n",
        "    pickle.dump(top_freq, fp)\n",
        "# stopper = 1/0\n",
        "\n",
        "print(\"[FILTERING LESS FREQUENT]\")\n",
        "for entry in complete_data.values:\n",
        "    if entry[1][0] in top_freq.keys():\n",
        "        data.append(entry)\n",
        "\n",
        "temp = {}\n",
        "for entry in data:\n",
        "    if entry[1][0] in temp.keys():\n",
        "        temp[entry[1][0]].append(entry)\n",
        "    else:\n",
        "        temp[entry[1][0]] = []\n",
        "print(\"List of families - \", temp.keys())\n",
        "train_tagged = []\n",
        "test_tagged = []\n",
        "\n",
        "for v in temp.values():\n",
        "    train_tagged = train_tagged + v[:int(0.4*len(v))]\n",
        "    test_tagged = test_tagged + v[int(0.4*len(v)):]\n",
        "print(train_tagged[0][1], train_tagged[-1][1])\n",
        "\n",
        "# train_tagged = [TaggedDocument([str(hash(x)%1024) for x in entry[0]], entry[1]) for entry in train_tagged]\n",
        "# test_tagged = [TaggedDocument([str(hash(x)%1024) for x in entry[0]], entry[1]) for entry in test_tagged]\n",
        "# temp = []\n",
        "# for entry in train_tagged:\n",
        "#     temp.append(TaggedDocument([x for x in entry[0]], entry[1]))\n",
        "# train_tagged = temp\n",
        "\n",
        "\n",
        "# temp = []\n",
        "# for entry in test_tagged:\n",
        "#     temp.append(TaggedDocument([x for x in entry[0]], entry[1]))\n",
        "# test_tagged = temp\n",
        "\n",
        "\n",
        "print(train_tagged[0], test_tagged[0])\n",
        "train_tagged = pd.Series(train_tagged)\n",
        "test_tagged = pd.Series(test_tagged)\n",
        "\n",
        "# with open(DIR + 'tagged_data/sequences/train/train_tagged.pkl', 'wb') as pkl:\n",
        "#     pickle.dump(train_tagged, pkl)\n",
        "# with open(DIR + 'tagged_data/sequences/test/test_tagged.pkl', 'wb') as pkl:\n",
        "#     pickle.dump(test_tagged, pkl)\n",
        "# print('[NEW DATA DUMP]')\n",
        "\n",
        "# tt = 1/0\n",
        "tokens = [x for x in train_tagged.values]\n",
        "\n",
        "print([\"MODEL CREATION\"])\n",
        "model_dbow = Doc2Vec(dm=0, vector_size=1024, window=32, min_count=2, workers=cores, alpha=0.08, min_alpha=0.001, hs=1)\n",
        "model_dmm = Doc2Vec(dm=1, dm_mean=1, vector_size=1024, window=32, min_count=2, workers=cores, alpha=0.08, min_alpha=0.001)\n",
        "model_dbow.build_vocab([x for x in train_tagged])\n",
        "model_dmm.build_vocab([x for x in train_tagged])\n",
        "print('[Model Build Initialized]')\n",
        "\n",
        "print(\"[MODEL TRAINING START]\")\n",
        "for epoch in tqdm_notebook(range(16)):\n",
        "    model_dbow.train(utils.shuffle(tokens), total_examples=len(train_tagged.values), epochs=1)\n",
        "    model_dbow.alpha -= 0.004\n",
        "    model_dmm.train(utils.shuffle(tokens), total_examples=len(train_tagged.values), epochs=1)\n",
        "    model_dmm.alpha -= 0.004\n",
        "print('[MODEL TRAINED]')"
      ],
      "execution_count": null,
      "outputs": [
        {
          "output_type": "stream",
          "text": [
            "[CREATING FREQ TABLE]\n",
            "36\n",
            "[FILTERING LESS FREQUENT]\n",
            "List of families -  dict_keys(['chaperonin (HSP60) family', 'thiolase-like superfamily', 'radical SAM superfamily', 'metallo-dependent hydrolases superfamily', 'HisA/HisF family', 'protein kinase superfamily', 'class-I aminoacyl-tRNA synthetase family', 'class-II aminoacyl-tRNA synthetase family', 'class I-like SAM-binding methyltransferase superfamily', 'methylthiotransferase family', 'cytochrome b family', 'methyltransferase superfamily', 'TRAFAC class translation factor GTPase superfamily', 'G-protein coupled receptor 1 family', 'universal ribosomal protein uL16 family', 'transferase hexapeptide repeat family', 'MurCDEF family', 'ABC transporter superfamily', 'TRAFAC class TrmE-Era-EngA-EngB-Septin-like GTPase superfamily', 'universal ribosomal protein uL2 family', 'DEAD box helicase family', 'globin family', 'universal ribosomal protein uS12 family', 'universal ribosomal protein uS8 family', 'universal ribosomal protein uL14 family', 'universal ribosomal protein uS4 family', 'purine/pyrimidine phosphoribosyltransferase family', 'universal ribosomal protein uS19 family', 'universal ribosomal protein uS2 family', 'ATPase alpha/beta chains family', 'major facilitator superfamily', 'universal ribosomal protein uS7 family', 'cytochrome P450 family', 'heat shock protein 70 family', 'small GTPase superfamily', 'aspartate/ornithine carbamoyltransferase superfamily'])\n",
            "['chaperonin (HSP60) family'] ['aspartate/ornithine carbamoyltransferase superfamily']\n",
            "TaggedDocument(['py', 'eki', 'ga', 'elvke', 'va', 'kk', 'tddv', 'agdgtttatvlaqa', 'lvr', 'eglrn', 'vaaga', 'nplg', 'lkrgi', 'ek', 'avek', 'vsst', 'llas', 'ak', 'evet', 'keqi', 'aata', 'gis', 'agdq', 'tigd', 'liaea', 'mdkvg', 'negvi', 'tvee', 'sntf', 'gl'], ['chaperonin (HSP60) family']) TaggedDocument(['makdi', 'eyn', 'etar', 'rklle', 'gv', 'nk', 'lana', 'vkvtlgpkgrnvv', 'id', 'kkfg', 'aptitkdgv', 'tva', 'keieled', 'pl', 'enmgaqmvkev', 'st', 'ktndvagdgttta', 'ti', 'laq', 'siin', 'eglkn', 'vtaga', 'np', 'msl', 'kkgid', 'ka', 'vtaav', 'esiq', 'krav', 'ki', 'enkk', 'dian', 'va', 'sisa', 'nndn', 'ti', 'gnl', 'iada', 'mdkvg', 'kdgv', 'itveea', 'ksie', 'ttl', 'dvvegmqfdrg', 'yisp', 'ymvt', 'daes', 'mvat', 'lndp', 'fi', 'li', 'yd', 'kki', 'ss', 'mkdl', 'ih', 'ilek', 'vaqag', 'kplv', 'iis', 'eeve', 'geala', 'tivv', 'nt', 'lrk', 'tisc', 'va', 'vkapgfgdrrk', 's', 'm', 'l', 'e', 'd', 'i', 'a', 'i', 'l', 't', 'g', 'g', 'q', 'v', 'i', 's', 'e', 'd', 'l', 'g', 'm', 'k', 'l', 'e', 'n', 't', 't', 'l', 'q', 'm', 'l', 'g', 'r', 'a', 'n', 'k', 'v', 't', 'v', 'd', 'k', 'e', 'n', 't', 't', 'i', 'i', 'e', 'g', 'k', 'g', 'q', 't', 'k', 'e', 'i', 'q', 'g', 'r', 'i', 'g', 'q', 'i', 'k', 'k', 'q', 'i', 'e', 'd', 't', 't', 's', 'e', 'y', 'd', 'r', 'e', 'k', 'l', 'q', 'e', 'r', 'l', 'a', 'k', 'l', 'a', 'g', 'g', 'v', 'a', 'v', 'i', 'h', 'v', 'g', 'a', 'a', 't', 'e', 'v', 'e', 'm', 'k', 'e', 'k', 'k', 'a', 'r', 'v', 'e', 'd', 'a', 'l', 's', 'a', 't', 'r', 'a', 'a', 'v', 'e', 'e', 'g', 'i', 'v', 'p', 'g', 'g', 'g', 'l', 't', 'l', 'l', 'k', 'a', 'q', 'e', 'a', 'v', 'g', 's', 'l', 'k', 'l', 'd', 'g', 'd', 'e', 'a', 't', 'g', 'a', 'k', 'i', 'i', 'f', 'r', 'a', 'l', 'e', 'e', 'p', 'i', 'r', 'm', 'i', 't', 's', 'n', 'a', 'g', 'l', 'e', 'g', 's', 'v', 'i', 'v', 'e', 'h', 'a', 'k', 'a', 'k', 'k', 'g', 'n', 'e', 'g', 'f', 'n', 'a', 'l', 't', 'm', 'v', 'w', 'e', 'd', 'm', 'i', 'q', 'a', 'g', 'v', 'v', 'd', 'p', 'a', 'k', 'v', 'v', 'r', 's', 'a', 'l', 'q', 'n', 'a', 'a', 's', 'i', 'g', 's', 'm', 'i', 'l', 't', 't', 'e', 'v', 't', 'i', 't', 'd', 'k', 'p', 'd', 'k', 'd', 'a', 'p', 'n', 'p', 'm', 'a', 'g', 'm', 'g', 'g', 'g', 'g', 'm', 'g', 'g', 'm', 'g', 'g', 'm', 'm'], ['chaperonin (HSP60) family'])\n",
            "['MODEL CREATION']\n",
            "[Model Build Initialized]\n",
            "[MODEL TRAINING START]\n"
          ],
          "name": "stdout"
        },
        {
          "output_type": "stream",
          "text": [
            "/usr/local/lib/python3.6/dist-packages/ipykernel_launcher.py:101: TqdmDeprecationWarning: This function will be removed in tqdm==5.0.0\n",
            "Please use `tqdm.notebook.tqdm` instead of `tqdm.tqdm_notebook`\n"
          ],
          "name": "stderr"
        },
        {
          "output_type": "display_data",
          "data": {
            "application/vnd.jupyter.widget-view+json": {
              "model_id": "37887de5c80545f894fd430ce59ce51a",
              "version_minor": 0,
              "version_major": 2
            },
            "text/plain": [
              "HBox(children=(FloatProgress(value=0.0, max=16.0), HTML(value='')))"
            ]
          },
          "metadata": {
            "tags": []
          }
        },
        {
          "output_type": "stream",
          "text": [
            "\n",
            "[MODEL TRAINED]\n"
          ],
          "name": "stdout"
        }
      ]
    },
    {
      "cell_type": "code",
      "metadata": {
        "colab": {
          "base_uri": "https://localhost:8080/"
        },
        "id": "ehKHn3akifi9",
        "outputId": "764ef2a5-12fd-4199-839d-25015fc2b382"
      },
      "source": [
        "print(len(data), len(train_tagged), len(test_tagged))"
      ],
      "execution_count": null,
      "outputs": [
        {
          "output_type": "stream",
          "text": [
            "72246 28872 43338\n"
          ],
          "name": "stdout"
        }
      ]
    },
    {
      "cell_type": "code",
      "metadata": {
        "colab": {
          "base_uri": "https://localhost:8080/"
        },
        "id": "IQYR0efaK368",
        "outputId": "3eda3972-1870-471d-a116-d6cb816af606"
      },
      "source": [
        "import pickle\n",
        "model_dbow.save(DIR + 'tagged_data/sequences/dbow/model1')\n",
        "model_dmm.save(DIR + 'tagged_data/sequences/dmm/model1')\n",
        "print('[MODELS SAVED]')\n",
        "# with open(DIR + 'tagged_data/sequences/train/train_tagged_hash.pkl', 'rb') as pkl:\n",
        "#     train_tagged = pickle.load(pkl)\n",
        "# with open(DIR + 'tagged_data/sequences/test/test_tagged_hash.pkl', 'rb') as pkl:\n",
        "#     test_tagged = pickle.load(pkl)"
      ],
      "execution_count": null,
      "outputs": [
        {
          "output_type": "stream",
          "text": [
            "[MODELS SAVED]\n"
          ],
          "name": "stdout"
        }
      ]
    },
    {
      "cell_type": "code",
      "metadata": {
        "colab": {
          "base_uri": "https://localhost:8080/",
          "height": 262,
          "referenced_widgets": [
            "49ef9dcdb73a4efea9027a916479b801",
            "8908c54c305a4233a1aa3bac8839eda9",
            "06038afb2b344bed9709de1bfa7a4cd4",
            "f1a51ecb13b44f77bdd8e6850e707730",
            "34956f0ce47b47af896d65bd1a0e64cc",
            "551549175d84442c8b3d57f55e0f8a4d",
            "22aa137f5ce64ae682326c9ef0ef0868",
            "5a51836213964bc9a854560965b53391",
            "ee3961b170e44d05ae394569e4671601",
            "e78915c1ac384b57acb5f6313545f82b",
            "50606dca2f664e5e937885983c4d92d6",
            "fb75b4fca2754db3a698630899b14ffc",
            "d361d4e286f44ac7b441a5dc8e59d150",
            "8d5ab0f56810467592c20d4c4d3f95d6",
            "7a227e29818a4ae09a5067a72d527612",
            "3113794552e24d47bd3cc8df87f93a20",
            "3db39ed3c77b45ab86992726d2839b4c",
            "23dcc15b274f463e9bb362d82e39aa61",
            "e210d1e6323c43b8b74bbaeec8791843",
            "87061cefd61c48319120f502a85b98d2",
            "7d4c855f9a8f42f79f775ca3cc04f0be",
            "1558d9d08f484f408a151c6c91dcee36",
            "47ab99bd31534182b814ac6328a88b43",
            "33243b843fe446dfa6a1bc93ab2b85d5",
            "e697962492c04400a32f7d661191d377",
            "b770c574e85947819ca7cbed77162a9c",
            "c3da76278efa4f82bc281c544a03d3c6",
            "eb7f819f64b54dae938747a021bcf54e",
            "c0b92860bec84657b1120049b8ddd27d",
            "ef593773d1e347b1b0b573322be5be82",
            "868959fe663641e083806d577e0872ab",
            "c916eef32b2a4470895d941e62218aed"
          ]
        },
        "id": "K2zgDojt4n4X",
        "outputId": "46524b26-a3dd-48c5-f68a-58ed58a177d1"
      },
      "source": [
        "import pickle\n",
        "import numpy as np\n",
        "import torch\n",
        "from sklearn.preprocessing import MinMaxScaler, StandardScaler, RobustScaler\n",
        "import threading\n",
        "\n",
        "\n",
        "def vec_for_learning(model, tagged_docs):\n",
        "    sents = tagged_docs.values\n",
        "    targets, regressors = zip(*[(doc.tags[0], model.infer_vector(doc.words, epochs=20)) for doc in tqdm_notebook(sents)])\n",
        "    return targets, regressors\n",
        "\n",
        "\n",
        "\n",
        "\n",
        "def get_vectors(model, train_tagged):\n",
        "    y, X = vec_for_learning(model, train_tagged)\n",
        "    return y, X\n",
        "\n",
        "y, X = get_vectors(model_dbow, train_tagged)\n",
        "\n",
        "with open(DIR + 'tagged_data/sequences/dbow/train/regressors1.pkl', 'wb') as fp:\n",
        "    pickle.dump(X, fp)\n",
        "with open(DIR + 'tagged_data/sequences/dbow/train/targets1.pkl', 'wb') as fp:\n",
        "    pickle.dump(y, fp)\n",
        "\n",
        "y, X = get_vectors(model_dbow, test_tagged)\n",
        "\n",
        "with open(DIR + 'tagged_data/sequences/dbow/test/regressors1.pkl', 'wb') as fp:\n",
        "    pickle.dump(X, fp)\n",
        "with open(DIR + 'tagged_data/sequences/dbow/test/targets1.pkl', 'wb') as fp:\n",
        "    pickle.dump(y, fp)\n",
        "\n",
        "\n",
        "\n",
        "y, X = get_vectors(model_dmm, train_tagged)\n",
        "\n",
        "with open(DIR + 'tagged_data/sequences/dmm/train/regressors1.pkl', 'wb') as fp:\n",
        "    pickle.dump(X, fp)\n",
        "with open(DIR + 'tagged_data/sequences/dmm/train/targets1.pkl', 'wb') as fp:\n",
        "    pickle.dump(y, fp)\n",
        "\n",
        "y, X = get_vectors(model_dmm, test_tagged)\n",
        "\n",
        "with open(DIR + 'tagged_data/sequences/dmm/test/regressors1.pkl', 'wb') as fp:\n",
        "    pickle.dump(X, fp)\n",
        "with open(DIR + 'tagged_data/sequences/dmm/test/targets1.pkl', 'wb') as fp:\n",
        "    pickle.dump(y, fp)"
      ],
      "execution_count": null,
      "outputs": [
        {
          "output_type": "stream",
          "text": [
            "/usr/local/lib/python3.6/dist-packages/ipykernel_launcher.py:10: TqdmDeprecationWarning: This function will be removed in tqdm==5.0.0\n",
            "Please use `tqdm.notebook.tqdm` instead of `tqdm.tqdm_notebook`\n",
            "  # Remove the CWD from sys.path while we load stuff.\n"
          ],
          "name": "stderr"
        },
        {
          "output_type": "display_data",
          "data": {
            "application/vnd.jupyter.widget-view+json": {
              "model_id": "49ef9dcdb73a4efea9027a916479b801",
              "version_minor": 0,
              "version_major": 2
            },
            "text/plain": [
              "HBox(children=(FloatProgress(value=0.0, max=28872.0), HTML(value='')))"
            ]
          },
          "metadata": {
            "tags": []
          }
        },
        {
          "output_type": "stream",
          "text": [
            "\n"
          ],
          "name": "stdout"
        },
        {
          "output_type": "display_data",
          "data": {
            "application/vnd.jupyter.widget-view+json": {
              "model_id": "ee3961b170e44d05ae394569e4671601",
              "version_minor": 0,
              "version_major": 2
            },
            "text/plain": [
              "HBox(children=(FloatProgress(value=0.0, max=43338.0), HTML(value='')))"
            ]
          },
          "metadata": {
            "tags": []
          }
        },
        {
          "output_type": "stream",
          "text": [
            "\n"
          ],
          "name": "stdout"
        },
        {
          "output_type": "display_data",
          "data": {
            "application/vnd.jupyter.widget-view+json": {
              "model_id": "3db39ed3c77b45ab86992726d2839b4c",
              "version_minor": 0,
              "version_major": 2
            },
            "text/plain": [
              "HBox(children=(FloatProgress(value=0.0, max=28872.0), HTML(value='')))"
            ]
          },
          "metadata": {
            "tags": []
          }
        },
        {
          "output_type": "stream",
          "text": [
            "\n"
          ],
          "name": "stdout"
        },
        {
          "output_type": "display_data",
          "data": {
            "application/vnd.jupyter.widget-view+json": {
              "model_id": "e697962492c04400a32f7d661191d377",
              "version_minor": 0,
              "version_major": 2
            },
            "text/plain": [
              "HBox(children=(FloatProgress(value=0.0, max=43338.0), HTML(value='')))"
            ]
          },
          "metadata": {
            "tags": []
          }
        },
        {
          "output_type": "stream",
          "text": [
            "\n"
          ],
          "name": "stdout"
        }
      ]
    },
    {
      "cell_type": "code",
      "metadata": {
        "colab": {
          "base_uri": "https://localhost:8080/"
        },
        "id": "WR_uFR5-7sTn",
        "outputId": "e83e921e-455b-4d63-aa82-525fa8cfa4ae"
      },
      "source": [
        "x = '/content/drive/My Drive/Uniprot/tagged_data/sequences/complete_dbow/regressor_data.pkl'\n",
        "x1 = DIR + 'tagged_data/sequences/complete_dbow/regressor_data.pkl'\n",
        "print(x, '\\n',x1)"
      ],
      "execution_count": null,
      "outputs": [
        {
          "output_type": "stream",
          "text": [
            "/content/drive/My Drive/Uniprot/tagged_data/sequences/complete_dbow/regressor_data.pkl \n",
            " /content/drive/My Drive/Uniprot/tagged_data/sequences/complete_dbow/regressor_data.pkl\n"
          ],
          "name": "stdout"
        }
      ]
    },
    {
      "cell_type": "code",
      "metadata": {
        "colab": {
          "base_uri": "https://localhost:8080/"
        },
        "id": "XX4BsSuFHyzN",
        "outputId": "c85e7878-fe49-40a6-d7bc-087224414f72"
      },
      "source": [
        "print(type(data_dbow), type(data_dmm))\n",
        "torch.save(data_dbow, DIR + 'tagged_data/sequences/complete_dbow/data_dbow.pt')\n",
        "torch.save(data_dmm, DIR + 'tagged_data/sequences/complete_dmm/data_dmm.pt')"
      ],
      "execution_count": null,
      "outputs": [
        {
          "output_type": "stream",
          "text": [
            "<class 'list'> <class 'list'>\n"
          ],
          "name": "stdout"
        }
      ]
    },
    {
      "cell_type": "code",
      "metadata": {
        "id": "ByGlgFyBXaSV"
      },
      "source": [
        "with open(DIR + 'tagged_data/sequences/complete_dmm/data_dmm.pkl', 'wb') as fp:\n",
        "    pickle.dump(data_dmm, fp)\n",
        "with open(DIR + 'tagged_data/sequences/complete_dbow/data_dbow.pkl', 'wb') as fp:\n",
        "    pickle.dump(data_dbow, fp)"
      ],
      "execution_count": null,
      "outputs": []
    },
    {
      "cell_type": "code",
      "metadata": {
        "colab": {
          "base_uri": "https://localhost:8080/"
        },
        "id": "ntaFLXKtz7pW",
        "outputId": "9b88e345-92f2-44c7-ecef-6d8d5f848c68"
      },
      "source": [
        "# get vectors of the sequences from dbow model\n",
        "\n",
        "y_train, X_train = get_vectors(model_dmm, train_tagged, 'dbow', True)\n",
        "print(['TRAIN VECTORS OBTAINED'])\n",
        "\n",
        "y_test, X_test = get_vectors(model_dmm, test_tagged, 'dbow', False)\n",
        "print(['TEST VECTORS OBTAINED'])\n",
        "\n",
        "y_rest, X_rest = get_vectors(model_dmm, rest, 'dbow', False)\n",
        "print(['REST VECTORS OBTAINED'])"
      ],
      "execution_count": null,
      "outputs": [
        {
          "output_type": "stream",
          "text": [
            "['TRAIN VECTORS OBTAINED']\n",
            "['TEST VECTORS OBTAINED']\n",
            "['REST VECTORS OBTAINED']\n"
          ],
          "name": "stdout"
        }
      ]
    },
    {
      "cell_type": "code",
      "metadata": {
        "colab": {
          "base_uri": "https://localhost:8080/"
        },
        "id": "qy7DInk4IOeN",
        "outputId": "145e5ff1-1f2f-4b38-e6fe-a23bf34b1e8e"
      },
      "source": [
        "print(len(X_train), len(X_test), len(X_rest))\n",
        "# if len(X_train < len(X_test)):\n",
        "#     X_test = x_rest.values"
      ],
      "execution_count": null,
      "outputs": [
        {
          "output_type": "stream",
          "text": [
            "50572 14449 28899\n"
          ],
          "name": "stdout"
        }
      ]
    },
    {
      "cell_type": "code",
      "metadata": {
        "id": "xAyl9mbxqOQw"
      },
      "source": [
        "import pickle\n",
        "\n",
        "model_dbow.save(DIR + 'tagged_data/sequences/dmm/model/model_dmm')\n",
        "with open(DIR + 'tagged_data/sequences/dmm/test/regressors.pkl', 'wb') as fp:\n",
        "    pickle.dump(X_test, fp)\n",
        "with open(DIR + 'tagged_data/sequences/dmm/test/targets.pkl', 'wb') as fp:\n",
        "    pickle.dump(y_test, fp)\n",
        "with open(DIR + 'tagged_data/sequences/dmm/train/regressors.pkl', 'wb') as fp:\n",
        "    pickle.dump(X_train, fp)\n",
        "with open(DIR + 'tagged_data/sequences/dmm/train/targets.pkl', 'wb') as fp:\n",
        "    pickle.dump(y_train, fp)\n",
        "with open(DIR + 'tagged_data/sequences/dmm/rest/regressors.pkl', 'wb') as fp:\n",
        "    pickle.dump(X_rest, fp)\n",
        "with open(DIR + 'tagged_data/sequences/dmm/rest/targets.pkl', 'wb') as fp:\n",
        "    pickle.dump(y_rest, fp)"
      ],
      "execution_count": null,
      "outputs": []
    },
    {
      "cell_type": "code",
      "metadata": {
        "id": "aZSZwQiPQvRR"
      },
      "source": [
        "import pickle\n",
        "with open(DIR + 'tagged_data/sequences/dbow/test/regressors.pkl', 'rb') as fp:\n",
        "    X_test = pickle.load(fp)\n",
        "with open(DIR + 'tagged_data/sequences/dbow/test/targets.pkl', 'rb') as fp:\n",
        "    y_test = pickle.load(fp)\n",
        "with open(DIR + 'tagged_data/sequences/dbow/train/regressors.pkl', 'rb') as fp:\n",
        "    X_train = pickle.load(fp)\n",
        "with open(DIR + 'tagged_data/sequences/dbow/train/targets.pkl', 'rb') as fp:\n",
        "    y_train = pickle.load(fp)\n",
        "with open(DIR + 'tagged_data/sequences/dbow/rest/regressors.pkl', 'rb') as fp:\n",
        "    X_rest = pickle.load(fp)\n",
        "with open(DIR + 'tagged_data/sequences/dbow/rest/targets.pkl', 'rb') as fp:\n",
        "    y_rest = pickle.load(fp)"
      ],
      "execution_count": null,
      "outputs": []
    },
    {
      "cell_type": "code",
      "metadata": {
        "id": "G5x6sNEa3FZl"
      },
      "source": [
        ""
      ],
      "execution_count": null,
      "outputs": []
    }
  ]
}